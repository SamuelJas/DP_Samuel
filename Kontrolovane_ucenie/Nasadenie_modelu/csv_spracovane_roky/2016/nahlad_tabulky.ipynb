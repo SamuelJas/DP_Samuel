{
 "cells": [
  {
   "cell_type": "markdown",
   "metadata": {},
   "source": [
    "Výstupná tabuľka pre rok 2016 má 400mb a jej otváranie trvá dlho. Z toho dôvodu je v nasledujúcom kóde jej náhľad."
   ]
  },
  {
   "cell_type": "code",
   "execution_count": 1,
   "metadata": {},
   "outputs": [],
   "source": [
    "import pandas as pd"
   ]
  },
  {
   "cell_type": "code",
   "execution_count": 2,
   "metadata": {},
   "outputs": [],
   "source": [
    "df = pd.read_csv(\"result_2016.csv\")"
   ]
  },
  {
   "cell_type": "code",
   "execution_count": 3,
   "metadata": {},
   "outputs": [
    {
     "data": {
      "text/html": [
       "<div>\n",
       "<style scoped>\n",
       "    .dataframe tbody tr th:only-of-type {\n",
       "        vertical-align: middle;\n",
       "    }\n",
       "\n",
       "    .dataframe tbody tr th {\n",
       "        vertical-align: top;\n",
       "    }\n",
       "\n",
       "    .dataframe thead th {\n",
       "        text-align: right;\n",
       "    }\n",
       "</style>\n",
       "<table border=\"1\" class=\"dataframe\">\n",
       "  <thead>\n",
       "    <tr style=\"text-align: right;\">\n",
       "      <th></th>\n",
       "      <th>org_img</th>\n",
       "      <th>image</th>\n",
       "      <th>event</th>\n",
       "      <th>date</th>\n",
       "      <th>second</th>\n",
       "      <th>milisecond</th>\n",
       "      <th>tweek</th>\n",
       "      <th>f_min&lt;2kHz</th>\n",
       "      <th>tweek_sign</th>\n",
       "    </tr>\n",
       "  </thead>\n",
       "  <tbody>\n",
       "    <tr>\n",
       "      <th>0</th>\n",
       "      <td>ch2_20160101_000242_596_s102</td>\n",
       "      <td>ch2_20160101_000242_596_s102-S1.jpg</td>\n",
       "      <td>1</td>\n",
       "      <td>20160101_000242</td>\n",
       "      <td>102</td>\n",
       "      <td>455</td>\n",
       "      <td>0</td>\n",
       "      <td>0</td>\n",
       "      <td>0</td>\n",
       "    </tr>\n",
       "    <tr>\n",
       "      <th>1</th>\n",
       "      <td>ch2_20160101_000242_596_s12</td>\n",
       "      <td>ch2_20160101_000242_596_s12-S1.jpg</td>\n",
       "      <td>1</td>\n",
       "      <td>20160101_000242</td>\n",
       "      <td>12</td>\n",
       "      <td>854</td>\n",
       "      <td>0</td>\n",
       "      <td>0</td>\n",
       "      <td>0</td>\n",
       "    </tr>\n",
       "    <tr>\n",
       "      <th>2</th>\n",
       "      <td>ch2_20160101_000242_596_s143</td>\n",
       "      <td>ch2_20160101_000242_596_s143-S1.jpg</td>\n",
       "      <td>1</td>\n",
       "      <td>20160101_000242</td>\n",
       "      <td>143</td>\n",
       "      <td>227</td>\n",
       "      <td>0</td>\n",
       "      <td>0</td>\n",
       "      <td>0</td>\n",
       "    </tr>\n",
       "    <tr>\n",
       "      <th>3</th>\n",
       "      <td>ch2_20160101_000242_596_s143</td>\n",
       "      <td>ch2_20160101_000242_596_s143-S2.jpg</td>\n",
       "      <td>2</td>\n",
       "      <td>20160101_000242</td>\n",
       "      <td>143</td>\n",
       "      <td>973</td>\n",
       "      <td>0</td>\n",
       "      <td>0</td>\n",
       "      <td>0</td>\n",
       "    </tr>\n",
       "    <tr>\n",
       "      <th>4</th>\n",
       "      <td>ch2_20160101_000242_596_s21</td>\n",
       "      <td>ch2_20160101_000242_596_s21-S1.jpg</td>\n",
       "      <td>1</td>\n",
       "      <td>20160101_000242</td>\n",
       "      <td>21</td>\n",
       "      <td>33</td>\n",
       "      <td>0</td>\n",
       "      <td>1</td>\n",
       "      <td>0</td>\n",
       "    </tr>\n",
       "    <tr>\n",
       "      <th>...</th>\n",
       "      <td>...</td>\n",
       "      <td>...</td>\n",
       "      <td>...</td>\n",
       "      <td>...</td>\n",
       "      <td>...</td>\n",
       "      <td>...</td>\n",
       "      <td>...</td>\n",
       "      <td>...</td>\n",
       "      <td>...</td>\n",
       "    </tr>\n",
       "    <tr>\n",
       "      <th>4417691</th>\n",
       "      <td>ch2_20161231_235851_604_s42</td>\n",
       "      <td>ch2_20161231_235851_604_s42-S1.jpg</td>\n",
       "      <td>1</td>\n",
       "      <td>20161231_235851</td>\n",
       "      <td>42</td>\n",
       "      <td>878</td>\n",
       "      <td>0</td>\n",
       "      <td>0</td>\n",
       "      <td>0</td>\n",
       "    </tr>\n",
       "    <tr>\n",
       "      <th>4417692</th>\n",
       "      <td>ch2_20161231_235851_604_s52</td>\n",
       "      <td>ch2_20161231_235851_604_s52-S1.jpg</td>\n",
       "      <td>1</td>\n",
       "      <td>20161231_235851</td>\n",
       "      <td>52</td>\n",
       "      <td>739</td>\n",
       "      <td>0</td>\n",
       "      <td>0</td>\n",
       "      <td>0</td>\n",
       "    </tr>\n",
       "    <tr>\n",
       "      <th>4417693</th>\n",
       "      <td>ch2_20161231_235851_604_s69</td>\n",
       "      <td>ch2_20161231_235851_604_s69-S1.jpg</td>\n",
       "      <td>1</td>\n",
       "      <td>20161231_235851</td>\n",
       "      <td>69</td>\n",
       "      <td>246</td>\n",
       "      <td>0</td>\n",
       "      <td>0</td>\n",
       "      <td>0</td>\n",
       "    </tr>\n",
       "    <tr>\n",
       "      <th>4417694</th>\n",
       "      <td>ch2_20161231_235851_604_s69</td>\n",
       "      <td>ch2_20161231_235851_604_s69-T1.jpg</td>\n",
       "      <td>1</td>\n",
       "      <td>20161231_235851</td>\n",
       "      <td>69</td>\n",
       "      <td>248</td>\n",
       "      <td>1</td>\n",
       "      <td>0</td>\n",
       "      <td>2</td>\n",
       "    </tr>\n",
       "    <tr>\n",
       "      <th>4417695</th>\n",
       "      <td>ch2_20161231_235851_604_s82</td>\n",
       "      <td>ch2_20161231_235851_604_s82-T1.jpg</td>\n",
       "      <td>1</td>\n",
       "      <td>20161231_235851</td>\n",
       "      <td>82</td>\n",
       "      <td>810</td>\n",
       "      <td>1</td>\n",
       "      <td>0</td>\n",
       "      <td>3</td>\n",
       "    </tr>\n",
       "  </tbody>\n",
       "</table>\n",
       "<p>4417696 rows × 9 columns</p>\n",
       "</div>"
      ],
      "text/plain": [
       "                              org_img                                image  \\\n",
       "0        ch2_20160101_000242_596_s102  ch2_20160101_000242_596_s102-S1.jpg   \n",
       "1         ch2_20160101_000242_596_s12   ch2_20160101_000242_596_s12-S1.jpg   \n",
       "2        ch2_20160101_000242_596_s143  ch2_20160101_000242_596_s143-S1.jpg   \n",
       "3        ch2_20160101_000242_596_s143  ch2_20160101_000242_596_s143-S2.jpg   \n",
       "4         ch2_20160101_000242_596_s21   ch2_20160101_000242_596_s21-S1.jpg   \n",
       "...                               ...                                  ...   \n",
       "4417691   ch2_20161231_235851_604_s42   ch2_20161231_235851_604_s42-S1.jpg   \n",
       "4417692   ch2_20161231_235851_604_s52   ch2_20161231_235851_604_s52-S1.jpg   \n",
       "4417693   ch2_20161231_235851_604_s69   ch2_20161231_235851_604_s69-S1.jpg   \n",
       "4417694   ch2_20161231_235851_604_s69   ch2_20161231_235851_604_s69-T1.jpg   \n",
       "4417695   ch2_20161231_235851_604_s82   ch2_20161231_235851_604_s82-T1.jpg   \n",
       "\n",
       "         event             date  second  milisecond  tweek  f_min<2kHz  \\\n",
       "0            1  20160101_000242     102         455      0           0   \n",
       "1            1  20160101_000242      12         854      0           0   \n",
       "2            1  20160101_000242     143         227      0           0   \n",
       "3            2  20160101_000242     143         973      0           0   \n",
       "4            1  20160101_000242      21          33      0           1   \n",
       "...        ...              ...     ...         ...    ...         ...   \n",
       "4417691      1  20161231_235851      42         878      0           0   \n",
       "4417692      1  20161231_235851      52         739      0           0   \n",
       "4417693      1  20161231_235851      69         246      0           0   \n",
       "4417694      1  20161231_235851      69         248      1           0   \n",
       "4417695      1  20161231_235851      82         810      1           0   \n",
       "\n",
       "         tweek_sign  \n",
       "0                 0  \n",
       "1                 0  \n",
       "2                 0  \n",
       "3                 0  \n",
       "4                 0  \n",
       "...             ...  \n",
       "4417691           0  \n",
       "4417692           0  \n",
       "4417693           0  \n",
       "4417694           2  \n",
       "4417695           3  \n",
       "\n",
       "[4417696 rows x 9 columns]"
      ]
     },
     "execution_count": 3,
     "metadata": {},
     "output_type": "execute_result"
    }
   ],
   "source": [
    "df"
   ]
  },
  {
   "cell_type": "code",
   "execution_count": 4,
   "metadata": {},
   "outputs": [
    {
     "data": {
      "text/plain": [
       "(4417696, 9)"
      ]
     },
     "execution_count": 4,
     "metadata": {},
     "output_type": "execute_result"
    }
   ],
   "source": [
    "df.shape"
   ]
  },
  {
   "cell_type": "code",
   "execution_count": 5,
   "metadata": {},
   "outputs": [
    {
     "data": {
      "text/plain": [
       "org_img       object\n",
       "image         object\n",
       "event          int64\n",
       "date          object\n",
       "second         int64\n",
       "milisecond     int64\n",
       "tweek          int64\n",
       "f_min<2kHz     int64\n",
       "tweek_sign     int64\n",
       "dtype: object"
      ]
     },
     "execution_count": 5,
     "metadata": {},
     "output_type": "execute_result"
    }
   ],
   "source": [
    "df.dtypes"
   ]
  },
  {
   "cell_type": "code",
   "execution_count": 7,
   "metadata": {},
   "outputs": [
    {
     "data": {
      "text/plain": [
       "org_img       4417696\n",
       "image         4417696\n",
       "event         4417696\n",
       "date          4417696\n",
       "second        4417696\n",
       "milisecond    4417696\n",
       "tweek         4417696\n",
       "f_min<2kHz    4417696\n",
       "tweek_sign    4417696\n",
       "dtype: int64"
      ]
     },
     "execution_count": 7,
     "metadata": {},
     "output_type": "execute_result"
    }
   ],
   "source": [
    "df.count()"
   ]
  }
 ],
 "metadata": {
  "kernelspec": {
   "display_name": "Python 3",
   "language": "python",
   "name": "python3"
  },
  "language_info": {
   "codemirror_mode": {
    "name": "ipython",
    "version": 3
   },
   "file_extension": ".py",
   "mimetype": "text/x-python",
   "name": "python",
   "nbconvert_exporter": "python",
   "pygments_lexer": "ipython3",
   "version": "3.8.6"
  }
 },
 "nbformat": 4,
 "nbformat_minor": 4
}
