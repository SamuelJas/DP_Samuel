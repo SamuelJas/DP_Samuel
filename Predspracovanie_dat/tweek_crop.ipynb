{
 "cells": [
  {
   "cell_type": "markdown",
   "metadata": {},
   "source": [
    "## Python notebook \n",
    "V nasledujúcom notebooku sú popísané Python metódy použité pre predspracovanie dát z anotačného projektu. Obsah notebooku je nasledujúci:\n",
    "1. Import potrebných knižníc\n",
    "2. Predspracovanie csv súboru anotačného projektu\n",
    "3. Extrakcia udalostí\n",
    "4. Rozdelenie zložiek na testovaciu a trénovaciu časť"
   ]
  },
  {
   "cell_type": "markdown",
   "metadata": {},
   "source": [
    "# 1. Import potrebných knižníc"
   ]
  },
  {
   "cell_type": "code",
   "execution_count": null,
   "metadata": {},
   "outputs": [],
   "source": [
    "import pandas as pd\n",
    "import csv\n",
    "import os\n",
    "import cv2\n",
    "import numpy as np\n",
    "import operator\n",
    "from skimage.io import imread\n",
    "from PIL import Image, ImageDraw\n",
    "import json\n",
    "import requests\n",
    "import splitfolders"
   ]
  },
  {
   "cell_type": "markdown",
   "metadata": {},
   "source": [
    "# 2. Predspracovanie csv súboru anotačného projektu\n",
    "Csv súbor anotačného projektu sme upravili do vhodnej podoby pre ďalšiu prácu a rozdelili ho na menšie csv súbory obsahujúce len udalosti rovnakej triedy podľa počtu disperzií."
   ]
  },
  {
   "cell_type": "code",
   "execution_count": 3,
   "metadata": {},
   "outputs": [],
   "source": [
    "#csv anotacného projektu\n",
    "data=pd.read_csv(\"jjmarkers-classifications2.csv\")"
   ]
  },
  {
   "cell_type": "code",
   "execution_count": 4,
   "metadata": {},
   "outputs": [],
   "source": [
    "#cesta na uloženie rozparsovaného csv\n",
    "csvOut='/home/jovyan/data/lightning/Samuel/2_roc_zs/vyrezavanie_tweekov/annot_output.csv'"
   ]
  },
  {
   "cell_type": "code",
   "execution_count": 5,
   "metadata": {},
   "outputs": [],
   "source": [
    "data=data.drop(data.index[0:50])"
   ]
  },
  {
   "cell_type": "code",
   "execution_count": 6,
   "metadata": {},
   "outputs": [],
   "source": [
    "a=50"
   ]
  },
  {
   "cell_type": "code",
   "execution_count": 7,
   "metadata": {},
   "outputs": [],
   "source": [
    "#rozparsovanie\n",
    "with open(csvOut, mode='w') as csv_file:\n",
    "    fieldnames = ['image','xmin', 'ymin', 'xmax', 'ymax', 'label', 'tweek_sign']\n",
    "    writer = csv.DictWriter(csv_file, fieldnames=fieldnames)\n",
    "    writer.writeheader()\n",
    "    while (a<=len(data)-1):\n",
    "        load=json.loads(data.iloc[a, 11])[0][\"value\"]\n",
    "        filesy=json.loads(data.iloc[a,12])[str(data.iloc[a,13])][\"Filename\"].split('.')\n",
    "        filesy=filesy[0]+'.jpg'\n",
    "        for k in load:\n",
    "            writer.writerow({'image': filesy,'xmin': round(k[\"x\"]),'ymin': 0,'xmax': round(k[\"x\"]+k[\"width\"]),  \n",
    "            'ymax': 162,'label': k[\"tool_label\"], 'tweek_sign': k[\"details\"]})\n",
    "        a+=1"
   ]
  },
  {
   "cell_type": "code",
   "execution_count": 8,
   "metadata": {},
   "outputs": [],
   "source": [
    "#uprava datasetu"
   ]
  },
  {
   "cell_type": "code",
   "execution_count": 2,
   "metadata": {},
   "outputs": [],
   "source": [
    "data2 = pd.read_csv(\"annot_output.csv\")"
   ]
  },
  {
   "cell_type": "code",
   "execution_count": 3,
   "metadata": {},
   "outputs": [],
   "source": [
    "data2[\"tweek_sign\"].replace({\"[]\": 0, \"[{'value': '1'}]\": 1, \"[{'value': 1}]\": 1, \"[{'value': 2}]\": 2, \"[{'value': 3}]\": 3, \"[{'value': 4}]\": 4, \"[{'value': 5}]\": 5, \"[{'value': 6}]\": 6, \"[{'value': 7}]\": 7, \"[{'value': 8}]\": 8,\"[{'value': 9}]\": 9}, inplace=True)"
   ]
  },
  {
   "cell_type": "code",
   "execution_count": 4,
   "metadata": {},
   "outputs": [
    {
     "data": {
      "text/plain": [
       "array([0, 2, 1, 5, 4, 6, 3, 9, 7, 8])"
      ]
     },
     "execution_count": 4,
     "metadata": {},
     "output_type": "execute_result"
    }
   ],
   "source": [
    "data2['tweek_sign'].unique()"
   ]
  },
  {
   "cell_type": "code",
   "execution_count": 5,
   "metadata": {},
   "outputs": [],
   "source": [
    "data2['label'].replace({\"Blesk\": 0, \"Blesk s chvostíkom\": 1}, inplace=True)"
   ]
  },
  {
   "cell_type": "code",
   "execution_count": 6,
   "metadata": {},
   "outputs": [
    {
     "data": {
      "text/plain": [
       "array([0, 1])"
      ]
     },
     "execution_count": 6,
     "metadata": {},
     "output_type": "execute_result"
    }
   ],
   "source": [
    "data2['label'].unique()"
   ]
  },
  {
   "cell_type": "code",
   "execution_count": 14,
   "metadata": {},
   "outputs": [],
   "source": [
    "data2.to_csv('anot_data_all.csv', index=False)"
   ]
  },
  {
   "cell_type": "code",
   "execution_count": 15,
   "metadata": {},
   "outputs": [
    {
     "name": "stdout",
     "output_type": "stream",
     "text": [
      "<class 'pandas.core.frame.DataFrame'>\n",
      "RangeIndex: 22183 entries, 0 to 22182\n",
      "Data columns (total 7 columns):\n",
      " #   Column      Non-Null Count  Dtype \n",
      "---  ------      --------------  ----- \n",
      " 0   image       22183 non-null  object\n",
      " 1   xmin        22183 non-null  int64 \n",
      " 2   ymin        22183 non-null  int64 \n",
      " 3   xmax        22183 non-null  int64 \n",
      " 4   ymax        22183 non-null  int64 \n",
      " 5   label       22183 non-null  int64 \n",
      " 6   tweek_sign  22183 non-null  int64 \n",
      "dtypes: int64(6), object(1)\n",
      "memory usage: 1.2+ MB\n",
      "None\n"
     ]
    }
   ],
   "source": [
    "print(data2.info())"
   ]
  },
  {
   "cell_type": "code",
   "execution_count": 16,
   "metadata": {},
   "outputs": [],
   "source": [
    "#iba tweeky"
   ]
  },
  {
   "cell_type": "code",
   "execution_count": 17,
   "metadata": {},
   "outputs": [],
   "source": [
    "data3 = data2[(data2['label'] == 1)]"
   ]
  },
  {
   "cell_type": "code",
   "execution_count": 18,
   "metadata": {},
   "outputs": [],
   "source": [
    "data3.to_csv('anot_data_tweek.csv', index=False)"
   ]
  },
  {
   "cell_type": "code",
   "execution_count": null,
   "metadata": {},
   "outputs": [],
   "source": [
    "#rozdelenie podľa počtu disperzií"
   ]
  },
  {
   "cell_type": "code",
   "execution_count": 7,
   "metadata": {},
   "outputs": [],
   "source": [
    "tweekSet = pd.read_csv(\"anot_data_tweek.csv\")"
   ]
  },
  {
   "cell_type": "code",
   "execution_count": 21,
   "metadata": {},
   "outputs": [],
   "source": [
    "tweek1 = tweekSet[(tweekSet['tweek_sign'] == 1)]\n",
    "tweek1.to_csv('tweek1.csv', index=False)"
   ]
  },
  {
   "cell_type": "code",
   "execution_count": 22,
   "metadata": {},
   "outputs": [],
   "source": [
    "tweek2 = tweekSet[(tweekSet['tweek_sign'] == 2)]\n",
    "tweek2.to_csv('tweek2.csv', index=False)"
   ]
  },
  {
   "cell_type": "code",
   "execution_count": 23,
   "metadata": {},
   "outputs": [],
   "source": [
    "tweek3 = tweekSet[(tweekSet['tweek_sign'] == 3)]\n",
    "tweek3.to_csv('tweek3.csv', index=False)"
   ]
  },
  {
   "cell_type": "code",
   "execution_count": 10,
   "metadata": {},
   "outputs": [],
   "source": [
    "tweekMoreThan4 = tweekSet[(tweekSet['tweek_sign'] >= 4)]\n",
    "tweekMoreThan4.to_csv('tweekMoreThan4.csv', index=False)"
   ]
  },
  {
   "cell_type": "markdown",
   "metadata": {},
   "source": [
    "# 3. Extrakcia udalostí\n",
    "Z príslušného csv sme na základe koodrinátov extrahovali udalosti a uložili ich do samostatných zložiek podľa triedy počtu disperzií."
   ]
  },
  {
   "cell_type": "code",
   "execution_count": 2,
   "metadata": {},
   "outputs": [],
   "source": [
    "# imagePath - cesta ku spektrogramom\n",
    "imagePath ='images'"
   ]
  },
  {
   "cell_type": "code",
   "execution_count": null,
   "metadata": {},
   "outputs": [],
   "source": [
    "#tweeky s jednou disperziou"
   ]
  },
  {
   "cell_type": "code",
   "execution_count": 3,
   "metadata": {},
   "outputs": [],
   "source": [
    "#savePath - zložka, do ktorej sa uložia extrahované udalosti\n",
    "savePath = 'data/tweek1'"
   ]
  },
  {
   "cell_type": "code",
   "execution_count": 4,
   "metadata": {},
   "outputs": [],
   "source": [
    "#extrakcia udalostí zo spektrogramov\n",
    "with open('tweek1.csv', 'r') as read_obj:\n",
    "    csv_reader = csv.reader(read_obj)\n",
    "    header = next(csv_reader)\n",
    "    if header != None:\n",
    "        for row in csv_reader:\n",
    "            try:\n",
    "                img = Image.open(os.path.join(imagePath, row[0]))\n",
    "                im = img.crop((int(row[1]), 0, int(row[3]), 162)).save(os.path.join(savePath, row[0].split(\".\")[0]+\"_%d.jpg\"%eventNR))\n",
    "                #print(row[0] + \" cropped\")\n",
    "                eventNR += 1\n",
    "            except:\n",
    "                continue   "
   ]
  },
  {
   "cell_type": "code",
   "execution_count": null,
   "metadata": {},
   "outputs": [],
   "source": [
    "#tweeky s 2 disperziami"
   ]
  },
  {
   "cell_type": "code",
   "execution_count": 5,
   "metadata": {},
   "outputs": [],
   "source": [
    "savePath = 'data/tweek2'"
   ]
  },
  {
   "cell_type": "code",
   "execution_count": 6,
   "metadata": {},
   "outputs": [],
   "source": [
    "with open('tweek2.csv', 'r') as read_obj:\n",
    "    csv_reader = csv.reader(read_obj)\n",
    "    header = next(csv_reader)\n",
    "    if header != None:\n",
    "        for row in csv_reader:\n",
    "            try:\n",
    "                img = Image.open(os.path.join(imagePath, row[0]))\n",
    "                im = img.crop((int(row[1]), 0, int(row[3]), 162)).save(os.path.join(savePath, row[0].split(\".\")[0]+\"_%d.jpg\"%eventNR))\n",
    "                #print(row[0] + \" cropped\")\n",
    "                eventNR += 1\n",
    "            except:\n",
    "                continue   "
   ]
  },
  {
   "cell_type": "code",
   "execution_count": null,
   "metadata": {},
   "outputs": [],
   "source": [
    "#tweeky s 3 disperziami"
   ]
  },
  {
   "cell_type": "code",
   "execution_count": 7,
   "metadata": {},
   "outputs": [],
   "source": [
    "savePath = 'data/tweek3'"
   ]
  },
  {
   "cell_type": "code",
   "execution_count": 8,
   "metadata": {},
   "outputs": [],
   "source": [
    "with open('tweek3.csv', 'r') as read_obj:\n",
    "    csv_reader = csv.reader(read_obj)\n",
    "    header = next(csv_reader)\n",
    "    if header != None:\n",
    "        for row in csv_reader:\n",
    "            try:\n",
    "                img = Image.open(os.path.join(imagePath, row[0]))\n",
    "                im = img.crop((int(row[1]), 0, int(row[3]), 162)).save(os.path.join(savePath, row[0].split(\".\")[0]+\"_%d.jpg\"%eventNR))\n",
    "                #print(row[0] + \" cropped\")\n",
    "                eventNR += 1\n",
    "            except:\n",
    "                continue   "
   ]
  },
  {
   "cell_type": "code",
   "execution_count": null,
   "metadata": {},
   "outputs": [],
   "source": [
    "#tweeky so 4 a viac disperziami"
   ]
  },
  {
   "cell_type": "code",
   "execution_count": 10,
   "metadata": {},
   "outputs": [],
   "source": [
    "savePath = 'data/tweek4more'"
   ]
  },
  {
   "cell_type": "code",
   "execution_count": 11,
   "metadata": {},
   "outputs": [
    {
     "name": "stdout",
     "output_type": "stream",
     "text": [
      "ch1_20150902_230432_765_s38.jpg cropped\n",
      "ch1_20150902_230432_765_s38.jpg cropped\n",
      "ch1_20150902_232933_901_s85.jpg cropped\n",
      "ch1_20150902_232933_901_s68.jpg cropped\n",
      "ch1_20180602_203728_547_s22.jpg cropped\n",
      "ch1_20150902_231933_448_s115.jpg cropped\n",
      "ch1_20150902_231933_448_s115.jpg cropped\n",
      "ch1_20150902_231933_448_s115.jpg cropped\n",
      "ch1_20150902_231933_448_s115.jpg cropped\n",
      "ch1_20150902_230432_765_s52.jpg cropped\n",
      "ch1_20150902_230432_765_s52.jpg cropped\n",
      "ch1_20150902_230432_765_s52.jpg cropped\n",
      "ch1_20160830_194001_403_s70.jpg cropped\n",
      "ch1_20180615_202006_477_s110.jpg cropped\n",
      "ch1_20150902_230932_991_s81.jpg cropped\n",
      "ch1_20180615_200505_862_s56.jpg cropped\n",
      "ch1_20160830_191500_286_s90.jpg cropped\n",
      "ch1_20180602_211229_947_s144.jpg cropped\n",
      "ch1_20160830_192500_741_s60.jpg cropped\n",
      "ch1_20160830_192500_741_s60.jpg cropped\n",
      "ch1_20180615_200005_654_s40.jpg cropped\n",
      "ch1_20180615_202006_477_s55.jpg cropped\n",
      "ch1_20180602_212230_349_s89.jpg cropped\n",
      "ch1_20180602_205229_138_s103.jpg cropped\n",
      "ch1_20150902_235935_260_s70.jpg cropped\n",
      "ch1_20160815_210347_173_s54.jpg cropped\n",
      "ch1_20150915_184833_399_s111.jpg cropped\n",
      "ch1_20150902_234434_583_s144.jpg cropped\n",
      "ch1_20160830_191000_059_s23.jpg cropped\n",
      "ch1_20180615_202506_686_s63.jpg cropped\n",
      "ch1_20150914_132212_691_s18.jpg cropped\n",
      "ch1_20180602_204228_741_s61.jpg cropped\n",
      "ch1_20160830_191500_286_s117.jpg cropped\n",
      "ch1_20160815_204346_270_s92.jpg cropped\n",
      "ch1_20150902_232933_901_s58.jpg cropped\n",
      "ch1_20150902_232433_673_s106.jpg cropped\n",
      "ch1_20150902_232433_673_s106.jpg cropped\n",
      "ch1_20160815_203846_040_s113.jpg cropped\n",
      "ch1_20160815_203846_040_s113.jpg cropped\n",
      "ch1_20150902_234434_583_s57.jpg cropped\n",
      "ch1_20160815_202845_581_s104.jpg cropped\n",
      "ch1_20150915_193335_458_s90.jpg cropped\n",
      "ch1_20160815_211847_860_s66.jpg cropped\n",
      "ch1_20160830_193000_969_s84.jpg cropped\n",
      "ch1_20160830_193000_969_s84.jpg cropped\n",
      "ch1_20160830_193000_969_s84.jpg cropped\n",
      "ch1_20160830_193000_969_s84.jpg cropped\n",
      "ch1_20160815_204346_270_s35.jpg cropped\n",
      "ch1_20160815_205846_942_s54.jpg cropped\n",
      "ch1_20160815_204846_498_s15.jpg cropped\n",
      "ch1_20160815_204846_498_s15.jpg cropped\n",
      "ch1_20160815_204846_498_s15.jpg cropped\n",
      "ch1_20150902_231933_448_s102.jpg cropped\n",
      "ch1_20150902_231933_448_s102.jpg cropped\n",
      "ch1_20150902_231933_448_s102.jpg cropped\n",
      "ch1_20160815_205846_942_s42.jpg cropped\n",
      "ch1_20160815_205846_942_s42.jpg cropped\n",
      "ch1_20160815_205846_942_s42.jpg cropped\n",
      "ch1_20160830_192500_741_s125.jpg cropped\n",
      "ch1_20180602_211229_947_s145.jpg cropped\n",
      "ch1_20150927_141634_991_s14.jpg cropped\n",
      "ch1_20160830_195502_059_s16.jpg cropped\n",
      "ch1_20160815_204846_498_s136.jpg cropped\n",
      "ch1_20180615_202006_477_s27.jpg cropped\n",
      "ch1_20180615_202006_477_s27.jpg cropped\n",
      "ch1_20150927_135133_845_s91.jpg cropped\n",
      "ch1_20160830_193501_188_s71.jpg cropped\n",
      "ch1_20180602_212730_544_s27.jpg cropped\n",
      "ch1_20160830_195001_847_s68.jpg cropped\n",
      "ch1_20150902_234934_811_s85.jpg cropped\n",
      "ch1_20160830_195001_847_s120.jpg cropped\n",
      "ch1_20150902_233934_355_s133.jpg cropped\n",
      "ch1_20180615_194505_040_s134.jpg cropped\n",
      "ch1_20180615_194505_040_s134.jpg cropped\n",
      "ch1_20180615_194505_040_s134.jpg cropped\n",
      "ch1_20180602_204728_939_s43.jpg cropped\n",
      "ch1_20160830_194001_403_s32.jpg cropped\n",
      "ch1_20160830_194001_403_s32.jpg cropped\n",
      "ch1_20160830_194001_403_s32.jpg cropped\n",
      "ch1_20180602_212730_544_s41.jpg cropped\n",
      "ch1_20180602_212730_544_s41.jpg cropped\n",
      "ch1_20150902_230932_991_s55.jpg cropped\n",
      "ch1_20150902_230932_991_s55.jpg cropped\n",
      "ch1_20180615_201006_070_s91.jpg cropped\n",
      "ch1_20180615_203507_097_s53.jpg cropped\n",
      "ch1_20160815_204346_270_s39.jpg cropped\n",
      "ch1_20180602_212730_544_s27.jpg cropped\n",
      "ch1_20150902_231433_221_s58.jpg cropped\n",
      "ch1_20160815_212348_074_s116.jpg cropped\n",
      "ch1_20160830_193000_969_s16.jpg cropped\n",
      "ch1_20160830_193000_969_s16.jpg cropped\n",
      "ch1_20160830_192500_741_s113.jpg cropped\n",
      "ch1_20150902_232433_673_s15.jpg cropped\n",
      "ch1_20180615_200005_654_s82.jpg cropped\n",
      "ch1_20160830_194001_403_s104.jpg cropped\n",
      "ch1_20180602_212730_544_s103.jpg cropped\n",
      "ch1_20150902_235935_260_s3.jpg cropped\n",
      "ch1_20160830_191000_059_s93.jpg cropped\n",
      "ch1_20160830_193000_969_s135.jpg cropped\n",
      "ch1_20150902_234434_583_s8.jpg cropped\n",
      "ch1_20150902_233934_355_s80.jpg cropped\n",
      "ch1_20160815_202845_581_s51.jpg cropped\n",
      "ch1_20160815_202845_581_s51.jpg cropped\n",
      "ch1_20180615_201506_272_s143.jpg cropped\n",
      "ch1_20180615_201506_272_s143.jpg cropped\n",
      "ch1_20150902_233434_128_s44.jpg cropped\n",
      "ch1_20150902_233434_128_s44.jpg cropped\n",
      "ch1_20160830_193000_969_s99.jpg cropped\n",
      "ch1_20150902_233434_128_s145.jpg cropped\n",
      "ch1_20180602_203228_351_s68.jpg cropped\n",
      "ch1_20150902_232933_901_s104.jpg cropped\n",
      "ch1_20150902_232933_901_s104.jpg cropped\n",
      "ch1_20160830_193000_969_s52.jpg cropped\n",
      "ch1_20160830_195001_847_s33.jpg cropped\n",
      "ch1_20160830_195001_847_s33.jpg cropped\n",
      "ch1_20160830_195001_847_s2.jpg cropped\n",
      "ch1_20180615_201506_272_s50.jpg cropped\n",
      "ch1_20150902_230932_991_s54.jpg cropped\n",
      "ch1_20160830_190459_841_s116.jpg cropped\n",
      "ch1_20160830_190459_841_s116.jpg cropped\n",
      "ch1_20150927_134133_388_s43.jpg cropped\n",
      "ch1_20160815_210847_398_s20.jpg cropped\n",
      "ch1_20160830_193000_969_s86.jpg cropped\n",
      "ch1_20160830_193000_969_s86.jpg cropped\n",
      "ch1_20160830_192000_520_s15.jpg cropped\n",
      "ch1_20180615_203507_097_s23.jpg cropped\n",
      "ch1_20180615_203507_097_s23.jpg cropped\n",
      "ch1_20180615_203507_097_s23.jpg cropped\n",
      "ch1_20160830_195502_059_s68.jpg cropped\n",
      "ch1_20180602_210229_548_s91.jpg cropped\n",
      "ch1_20160830_191500_286_s7.jpg cropped\n",
      "ch1_20160830_191500_286_s7.jpg cropped\n",
      "ch1_20160830_191500_286_s7.jpg cropped\n",
      "ch1_20150902_233934_355_s51.jpg cropped\n",
      "ch1_20160815_203846_040_s42.jpg cropped\n",
      "ch1_20150902_235435_039_s87.jpg cropped\n",
      "ch1_20160830_192000_520_s133.jpg cropped\n",
      "ch1_20150902_234934_811_s95.jpg cropped\n",
      "ch1_20150902_234934_811_s95.jpg cropped\n",
      "ch1_20150902_234934_811_s95.jpg cropped\n",
      "ch1_20150902_234934_811_s95.jpg cropped\n",
      "ch1_20160830_192500_741_s44.jpg cropped\n",
      "ch1_20160830_190459_841_s116.jpg cropped\n",
      "ch1_20150902_230932_991_s50.jpg cropped\n",
      "ch1_20150902_230932_991_s50.jpg cropped\n",
      "ch1_20160830_193501_188_s62.jpg cropped\n",
      "ch1_20180615_202506_686_s13.jpg cropped\n",
      "ch1_20180615_202506_686_s13.jpg cropped\n",
      "ch1_20150902_231933_448_s118.jpg cropped\n",
      "ch1_20150902_231933_448_s118.jpg cropped\n",
      "ch1_20180602_204728_939_s86.jpg cropped\n",
      "ch1_20160815_205846_942_s43.jpg cropped\n",
      "ch1_20150902_233934_355_s51.jpg cropped\n",
      "ch1_20150902_233934_355_s51.jpg cropped\n",
      "ch1_20150902_231433_221_s52.jpg cropped\n",
      "ch1_20150902_231433_221_s52.jpg cropped\n",
      "ch1_20150902_234934_811_s125.jpg cropped\n",
      "ch1_20150902_230932_991_s50.jpg cropped\n",
      "ch1_20160815_205346_718_s116.jpg cropped\n",
      "ch1_20160815_205346_718_s116.jpg cropped\n",
      "ch1_20180602_203728_547_s115.jpg cropped\n",
      "ch1_20160830_191500_286_s118.jpg cropped\n",
      "ch1_20180602_203728_547_s27.jpg cropped\n",
      "ch1_20150902_235935_260_s29.jpg cropped\n",
      "ch1_20150902_235935_260_s29.jpg cropped\n",
      "ch1_20150902_230932_991_s93.jpg cropped\n",
      "ch1_20150902_232433_673_s44.jpg cropped\n",
      "ch1_20160815_211847_860_s103.jpg cropped\n",
      "ch1_20160830_192000_520_s11.jpg cropped\n",
      "ch1_20160815_211347_625_s88.jpg cropped\n",
      "ch1_20160815_211347_625_s88.jpg cropped\n",
      "ch1_20160815_211347_625_s88.jpg cropped\n",
      "ch1_20160815_211347_625_s88.jpg cropped\n",
      "ch1_20180602_210729_749_s100.jpg cropped\n",
      "ch1_20180602_210729_749_s100.jpg cropped\n",
      "ch1_20160830_200002_284_s74.jpg cropped\n",
      "ch1_20150902_233934_355_s45.jpg cropped\n",
      "ch1_20150902_232933_901_s1.jpg cropped\n",
      "ch1_20150902_230932_991_s109.jpg cropped\n",
      "ch1_20150902_232933_901_s27.jpg cropped\n",
      "ch1_20160830_200002_284_s74.jpg cropped\n",
      "ch1_20150902_230432_765_s7.jpg cropped\n",
      "ch1_20160830_192000_520_s11.jpg cropped\n",
      "ch1_20160830_194001_403_s143.jpg cropped\n",
      "ch1_20160830_194001_403_s143.jpg cropped\n",
      "ch1_20150902_231433_221_s44.jpg cropped\n",
      "ch1_20180615_195505_452_s129.jpg cropped\n",
      "ch1_20180602_211730_150_s110.jpg cropped\n",
      "ch1_20150902_234934_811_s9.jpg cropped\n",
      "ch1_20180615_202506_686_s13.jpg cropped\n",
      "ch1_20180615_202506_686_s13.jpg cropped\n",
      "ch1_20180615_202506_686_s13.jpg cropped\n",
      "ch1_20180615_203006_889_s14.jpg cropped\n",
      "ch1_20160815_204346_270_s138.jpg cropped\n",
      "ch1_20160830_192000_520_s52.jpg cropped\n",
      "ch1_20160815_211347_625_s88.jpg cropped\n",
      "ch1_20160815_211347_625_s88.jpg cropped\n",
      "ch1_20160815_211347_625_s88.jpg cropped\n",
      "ch1_20160815_211347_625_s88.jpg cropped\n",
      "ch1_20160815_210847_398_s89.jpg cropped\n",
      "ch1_20150902_234934_811_s9.jpg cropped\n",
      "ch1_20160830_200002_284_s49.jpg cropped\n",
      "ch1_20150902_235435_039_s120.jpg cropped\n",
      "ch1_20160830_192500_741_s55.jpg cropped\n",
      "ch1_20160830_192500_741_s55.jpg cropped\n",
      "ch1_20160830_192500_741_s55.jpg cropped\n",
      "ch1_20160830_192500_741_s55.jpg cropped\n",
      "ch1_20160830_192000_520_s94.jpg cropped\n",
      "ch1_20180602_212230_349_s138.jpg cropped\n",
      "ch1_20150902_233434_128_s57.jpg cropped\n",
      "ch1_20150902_233434_128_s57.jpg cropped\n",
      "ch1_20160815_204346_270_s138.jpg cropped\n",
      "ch1_20160830_194501_624_s74.jpg cropped\n",
      "ch1_20150902_230432_765_s141.jpg cropped\n",
      "ch1_20150902_233934_355_s125.jpg cropped\n",
      "ch1_20150902_235435_039_s79.jpg cropped\n",
      "ch1_20160830_200002_284_s61.jpg cropped\n",
      "ch1_20150902_235435_039_s24.jpg cropped\n",
      "ch1_20150902_233934_355_s125.jpg cropped\n",
      "ch1_20150902_235935_260_s34.jpg cropped\n",
      "ch1_20150902_235935_260_s34.jpg cropped\n",
      "ch1_20150902_235935_260_s34.jpg cropped\n",
      "ch1_20180602_205729_347_s23.jpg cropped\n",
      "ch1_20180602_211730_150_s32.jpg cropped\n",
      "ch1_20150902_232433_673_s116.jpg cropped\n",
      "ch1_20150902_232433_673_s116.jpg cropped\n",
      "ch1_20150902_230932_991_s31.jpg cropped\n",
      "ch1_20160830_200002_284_s103.jpg cropped\n",
      "ch1_20160830_200002_284_s103.jpg cropped\n",
      "ch1_20150927_141634_991_s36.jpg cropped\n",
      "ch1_20150902_233934_355_s55.jpg cropped\n",
      "ch1_20160815_203345_809_s133.jpg cropped\n",
      "ch1_20150902_233934_355_s55.jpg cropped\n",
      "ch1_20150902_233434_128_s24.jpg cropped\n",
      "ch1_20150902_233434_128_s24.jpg cropped\n",
      "ch1_20150902_230932_991_s31.jpg cropped\n",
      "ch1_20160830_192000_520_s94.jpg cropped\n",
      "ch1_20160830_192000_520_s94.jpg cropped\n",
      "ch1_20160830_192000_520_s94.jpg cropped\n",
      "ch1_20160830_192000_520_s94.jpg cropped\n",
      "ch1_20160830_192000_520_s94.jpg cropped\n",
      "ch1_20160830_192000_520_s94.jpg cropped\n",
      "ch1_20150902_231933_448_s61.jpg cropped\n",
      "ch1_20150902_233934_355_s125.jpg cropped\n",
      "ch1_20180602_211730_150_s110.jpg cropped\n",
      "ch1_20160830_194501_624_s1.jpg cropped\n",
      "ch1_20150902_233934_355_s55.jpg cropped\n",
      "ch1_20150902_233934_355_s55.jpg cropped\n",
      "ch1_20180602_210729_749_s53.jpg cropped\n",
      "ch1_20150902_233934_355_s55.jpg cropped\n",
      "ch1_20150902_233934_355_s55.jpg cropped\n",
      "ch1_20180615_201006_070_s90.jpg cropped\n",
      "ch1_20150902_231933_448_s61.jpg cropped\n",
      "ch1_20160830_193501_188_s24.jpg cropped\n",
      "ch1_20150902_230432_765_s40.jpg cropped\n",
      "ch1_20150902_231933_448_s61.jpg cropped\n",
      "ch1_20150902_231933_448_s61.jpg cropped\n",
      "ch1_20150902_233934_355_s55.jpg cropped\n",
      "ch1_20160830_195502_059_s58.jpg cropped\n",
      "ch1_20180621_225109_686_s65.jpg cropped\n",
      "ch1_20180621_225109_686_s65.jpg cropped\n",
      "ch1_20160807_213010_328_s52.jpg cropped\n",
      "ch1_20160807_213010_328_s52.jpg cropped\n",
      "ch1_20160821_193512_001_s16.jpg cropped\n",
      "ch1_20160807_212009_885_s68.jpg cropped\n",
      "ch1_20170707_235137_441_s134.jpg cropped\n",
      "ch1_20160821_193011_768_s54.jpg cropped\n",
      "ch1_20170721_223039_462_s119.jpg cropped\n",
      "ch1_20160821_185510_193_s114.jpg cropped\n",
      "ch1_20170707_230635_533_s53.jpg cropped\n",
      "ch1_20170707_230635_533_s53.jpg cropped\n",
      "ch1_20170707_230635_533_s53.jpg cropped\n",
      "ch1_20170707_235637_636_s113.jpg cropped\n",
      "ch1_20170721_222539_271_s58.jpg cropped\n",
      "ch1_20160821_193512_001_s67.jpg cropped\n",
      "ch1_20180621_223609_070_s69.jpg cropped\n",
      "ch1_20180621_222108_441_s80.jpg cropped\n",
      "ch1_20170707_233636_813_s142.jpg cropped\n",
      "ch1_20170707_233636_813_s142.jpg cropped\n",
      "ch1_20170707_235137_441_s27.jpg cropped\n",
      "ch1_20170707_235137_441_s27.jpg cropped\n",
      "ch1_20160807_210009_001_s134.jpg cropped\n",
      "ch1_20170707_233636_813_s71.jpg cropped\n",
      "ch1_20180621_223108_861_s108.jpg cropped\n",
      "ch1_20150921_184010_496_s26.jpg cropped\n",
      "ch1_20160821_192511_538_s58.jpg cropped\n",
      "ch1_20160821_192511_538_s66.jpg cropped\n",
      "ch1_20160821_192511_538_s66.jpg cropped\n",
      "ch1_20180621_221108_035_s91.jpg cropped\n",
      "ch1_20180621_221608_239_s83.jpg cropped\n",
      "ch1_20170707_232636_377_s54.jpg cropped\n",
      "ch1_20180621_223609_070_s69.jpg cropped\n",
      "ch1_20170707_233636_813_s146.jpg cropped\n",
      "ch1_20170707_233636_813_s146.jpg cropped\n",
      "ch1_20170707_233636_813_s146.jpg cropped\n",
      "ch1_20170707_233636_813_s146.jpg cropped\n",
      "ch1_20160821_191511_082_s45.jpg cropped\n",
      "ch1_20180621_221108_035_s111.jpg cropped\n",
      "ch1_20180621_230110_099_s137.jpg cropped\n",
      "ch1_20180621_230110_099_s137.jpg cropped\n",
      "ch1_20170707_233636_813_s85.jpg cropped\n",
      "ch1_20160821_190010_414_s98.jpg cropped\n",
      "ch1_20160821_190010_414_s98.jpg cropped\n",
      "ch1_20150921_190011_414_s143.jpg cropped\n",
      "ch1_20180621_221108_035_s91.jpg cropped\n",
      "ch1_20180621_221108_035_s91.jpg cropped\n",
      "ch1_20170707_235137_441_s40.jpg cropped\n",
      "ch1_20180621_220607_827_s5.jpg cropped\n",
      "ch1_20180621_225609_891_s67.jpg cropped\n",
      "ch1_20180621_225109_686_s98.jpg cropped\n",
      "ch1_20180621_225109_686_s98.jpg cropped\n",
      "ch1_20150921_193513_025_s10.jpg cropped\n",
      "ch1_20180621_222108_441_s138.jpg cropped\n",
      "ch1_20170721_215037_895_s63.jpg cropped\n",
      "ch1_20170721_220538_482_s51.jpg cropped\n",
      "ch1_20160821_193512_001_s140.jpg cropped\n",
      "ch1_20160821_191010_871_s74.jpg cropped\n",
      "ch1_20170721_220538_482_s142.jpg cropped\n",
      "ch1_20170721_220538_482_s142.jpg cropped\n",
      "ch1_20180621_223609_070_s63.jpg cropped\n",
      "ch1_20180621_223609_070_s61.jpg cropped\n",
      "ch1_20160821_185009_961_s32.jpg cropped\n",
      "ch1_20160821_193011_768_s79.jpg cropped\n",
      "ch1_20160821_192511_538_s82.jpg cropped\n",
      "ch1_20150921_184510_726_s136.jpg cropped\n",
      "ch1_20180621_220607_827_s89.jpg cropped\n",
      "ch1_20170707_234137_018_s135.jpg cropped\n",
      "ch1_20180621_230110_099_s83.jpg cropped\n",
      "ch1_20180621_230110_099_s83.jpg cropped\n",
      "ch1_20180621_230110_099_s83.jpg cropped\n",
      "ch1_20180621_230110_099_s83.jpg cropped\n",
      "ch1_20170707_233636_813_s68.jpg cropped\n",
      "ch1_20170707_231635_946_s23.jpg cropped\n",
      "ch1_20180621_223609_070_s50.jpg cropped\n",
      "ch1_20180621_224609_481_s37.jpg cropped\n",
      "ch1_20180621_224609_481_s37.jpg cropped\n",
      "ch1_20180621_224609_481_s37.jpg cropped\n",
      "ch1_20170707_230635_533_s30.jpg cropped\n",
      "ch1_20180621_225109_686_s108.jpg cropped\n",
      "ch1_20170721_223539_659_s17.jpg cropped\n",
      "ch1_20150921_192012_338_s88.jpg cropped\n",
      "ch1_20170707_235637_636_s127.jpg cropped\n",
      "ch1_20170721_220538_482_s142.jpg cropped\n",
      "ch1_20170721_220538_482_s142.jpg cropped\n",
      "ch1_20170721_220538_482_s142.jpg cropped\n",
      "ch1_20180621_222608_651_s111.jpg cropped\n",
      "ch1_20180621_222608_651_s111.jpg cropped\n",
      "ch1_20160821_190510_640_s99.jpg cropped\n",
      "ch1_20160821_193011_768_s78.jpg cropped\n",
      "ch1_20160821_193011_768_s78.jpg cropped\n",
      "ch1_20160821_193011_768_s78.jpg cropped\n",
      "ch1_20170707_233636_813_s102.jpg cropped\n",
      "ch1_20160821_193011_768_s77.jpg cropped\n",
      "ch1_20170721_224540_057_s94.jpg cropped\n",
      "ch1_20180621_223609_070_s119.jpg cropped\n",
      "ch1_20170721_221538_874_s36.jpg cropped\n",
      "ch1_20180621_220607_827_s61.jpg cropped\n",
      "ch1_20170721_220038_286_s144.jpg cropped\n",
      "ch1_20160821_191511_082_s111.jpg cropped\n",
      "ch1_20180621_222608_651_s111.jpg cropped\n",
      "ch1_20180621_222608_651_s111.jpg cropped\n",
      "ch1_20180621_220607_827_s61.jpg cropped\n",
      "ch1_20170707_233136_589_s45.jpg cropped\n",
      "ch1_20170707_233136_589_s45.jpg cropped\n",
      "ch1_20180621_224109_279_s102.jpg cropped\n",
      "ch1_20160821_185510_193_s145.jpg cropped\n",
      "ch1_20180621_224109_279_s130.jpg cropped\n",
      "ch1_20180621_224109_279_s130.jpg cropped\n",
      "ch1_20180621_222108_441_s6.jpg cropped\n",
      "ch1_20170721_224039_856_s146.jpg cropped\n",
      "ch1_20170721_223539_659_s45.jpg cropped\n",
      "ch1_20170707_233136_589_s10.jpg cropped\n",
      "ch1_20170707_234637_231_s41.jpg cropped\n",
      "ch1_20170707_232636_377_s59.jpg cropped\n",
      "ch1_20170721_215037_895_s62.jpg cropped\n",
      "ch1_20180621_230110_099_s131.jpg cropped\n",
      "ch1_20170707_232136_161_s102.jpg cropped\n",
      "ch1_20170721_221538_874_s36.jpg cropped\n",
      "ch1_20180621_222108_441_s6.jpg cropped\n",
      "ch1_20170707_235137_441_s123.jpg cropped\n",
      "ch1_20170707_235137_441_s123.jpg cropped\n",
      "ch1_20170721_220538_482_s89.jpg cropped\n",
      "ch1_20170707_231135_735_s34.jpg cropped\n",
      "ch1_20170707_234137_018_s110.jpg cropped\n",
      "ch1_20170721_220538_482_s89.jpg cropped\n",
      "ch1_20170721_223039_462_s145.jpg cropped\n",
      "ch1_20160821_191010_871_s15.jpg cropped\n",
      "ch1_20180621_224609_481_s57.jpg cropped\n",
      "ch1_20180621_230110_099_s86.jpg cropped\n",
      "ch1_20170707_234137_018_s6.jpg cropped\n",
      "ch1_20160821_193011_768_s78.jpg cropped\n",
      "ch1_20160821_193011_768_s78.jpg cropped\n",
      "ch1_20180607_191714_423_s70.jpg cropped\n",
      "ch1_20160807_210009_001_s60.jpg cropped\n",
      "ch1_20160821_190510_640_s24.jpg cropped\n",
      "ch1_20170707_231635_946_s72.jpg cropped\n",
      "ch1_20170707_231635_946_s72.jpg cropped\n",
      "ch1_20170721_221038_676_s80.jpg cropped\n",
      "ch1_20170721_220538_482_s50.jpg cropped\n",
      "ch1_20180621_230110_099_s124.jpg cropped\n",
      "ch1_20180621_230110_099_s124.jpg cropped\n",
      "ch1_20180621_225609_891_s64.jpg cropped\n",
      "ch1_20160807_212510_105_s130.jpg cropped\n",
      "ch1_20180621_222608_651_s46.jpg cropped\n",
      "ch1_20180621_222608_651_s46.jpg cropped\n",
      "ch1_20180621_222608_651_s46.jpg cropped\n",
      "ch1_20170707_231635_946_s72.jpg cropped\n",
      "ch1_20170721_215538_093_s38.jpg cropped\n",
      "ch1_20170707_234637_231_s46.jpg cropped\n",
      "ch1_20170707_234637_231_s46.jpg cropped\n",
      "ch1_20180621_224109_279_s41.jpg cropped\n",
      "ch1_20170721_215037_895_s62.jpg cropped\n",
      "ch1_20170721_215037_895_s62.jpg cropped\n",
      "ch1_20170721_224039_856_s79.jpg cropped\n",
      "ch1_20180621_222108_441_s107.jpg cropped\n",
      "ch1_20170721_224039_856_s46.jpg cropped\n",
      "ch1_20160821_193011_768_s60.jpg cropped\n",
      "ch1_20180621_225609_891_s3.jpg cropped\n",
      "ch1_20160821_193512_001_s80.jpg cropped\n",
      "ch1_20170721_215037_895_s10.jpg cropped\n",
      "ch1_20180621_225109_686_s95.jpg cropped\n",
      "ch1_20170721_222539_271_s89.jpg cropped\n",
      "ch1_20160807_210509_228_s120.jpg cropped\n",
      "ch1_20180621_225109_686_s95.jpg cropped\n",
      "ch1_20170721_224540_057_s93.jpg cropped\n",
      "ch1_20160821_192011_311_s134.jpg cropped\n",
      "ch1_20170721_224540_057_s93.jpg cropped\n",
      "ch1_20170721_221038_676_s59.jpg cropped\n",
      "ch1_20170721_223539_659_s14.jpg cropped\n",
      "ch1_20180621_224109_279_s41.jpg cropped\n",
      "ch1_20180621_224109_279_s146.jpg cropped\n",
      "ch1_20170707_232136_161_s42.jpg cropped\n",
      "ch1_20170707_232136_161_s42.jpg cropped\n",
      "ch1_20170721_224540_057_s93.jpg cropped\n",
      "ch1_20170721_224540_057_s93.jpg cropped\n",
      "ch1_20180607_195716_031_s135.jpg cropped\n",
      "ch1_20180621_223108_861_s113.jpg cropped\n",
      "ch1_20150921_191512_109_s89.jpg cropped\n",
      "ch1_20180621_224609_481_s29.jpg cropped\n",
      "ch1_20180621_224609_481_s29.jpg cropped\n",
      "ch1_20180621_221608_239_s96.jpg cropped\n",
      "ch1_20180621_221108_035_s98.jpg cropped\n",
      "ch1_20180621_221608_239_s96.jpg cropped\n",
      "ch1_20180621_224609_481_s29.jpg cropped\n",
      "ch1_20170707_235137_441_s56.jpg cropped\n",
      "ch1_20180621_222108_441_s39.jpg cropped\n",
      "ch1_20170707_230635_533_s19.jpg cropped\n",
      "ch1_20170721_215037_895_s17.jpg cropped\n",
      "ch1_20180621_221108_035_s98.jpg cropped\n",
      "ch1_20170707_235137_441_s56.jpg cropped\n",
      "ch1_20170707_235137_441_s56.jpg cropped\n",
      "ch1_20170707_235137_441_s56.jpg cropped\n",
      "ch1_20180621_224109_279_s102.jpg cropped\n",
      "ch1_20180621_221108_035_s98.jpg cropped\n",
      "ch1_20180621_221108_035_s98.jpg cropped\n",
      "ch1_20180621_221108_035_s98.jpg cropped\n",
      "ch1_20180621_224609_481_s29.jpg cropped\n"
     ]
    }
   ],
   "source": [
    "with open('tweekMoreThan4.csv', 'r') as read_obj:\n",
    "    csv_reader = csv.reader(read_obj)\n",
    "    header = next(csv_reader)\n",
    "    if header != None:\n",
    "        for row in csv_reader:\n",
    "            try:\n",
    "                img = Image.open(os.path.join(imagePath, row[0]))\n",
    "                im = img.crop((int(row[1]), 0, int(row[3]), 162)).save(os.path.join(savePath, row[0].split(\".\")[0]+\"_%d.jpg\"%eventNR))\n",
    "                print(row[0] + \" cropped\")\n",
    "                eventNR += 1\n",
    "            except:\n",
    "                continue   "
   ]
  },
  {
   "cell_type": "markdown",
   "metadata": {},
   "source": [
    "# 4. Rozdelenie zložiek na testovaniu a trénovaciu časť\n",
    "\n",
    "Zložky z extrahovanými udalosťami sme rozdelili v pomere 90% trénovanie a 10% testovanie."
   ]
  },
  {
   "cell_type": "code",
   "execution_count": null,
   "metadata": {},
   "outputs": [],
   "source": [
    "#rozdelenie na trénovaciu a testovaciu časť\n",
    "splitfolders.ratio(input_folder, output = \"data_split_smoothed\", seed = 42, ratio = (.9, .1))"
   ]
  }
 ],
 "metadata": {
  "kernelspec": {
   "display_name": "Python 3",
   "language": "python",
   "name": "python3"
  },
  "language_info": {
   "codemirror_mode": {
    "name": "ipython",
    "version": 3
   },
   "file_extension": ".py",
   "mimetype": "text/x-python",
   "name": "python",
   "nbconvert_exporter": "python",
   "pygments_lexer": "ipython3",
   "version": "3.8.6"
  }
 },
 "nbformat": 4,
 "nbformat_minor": 4
}
