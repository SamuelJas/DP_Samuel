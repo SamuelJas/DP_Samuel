{
 "cells": [
  {
   "cell_type": "markdown",
   "metadata": {},
   "source": [
    "## Python notebook \n",
    "V nasledujúcom notebooku sú popísané Python metódy použité pre analýzu zhlukov k-Means. Obsah notebooku je nasledujúci:\n",
    "1. Import potrebných knižníc\n",
    "2. Analýza zhlukov"
   ]
  },
  {
   "cell_type": "markdown",
   "metadata": {},
   "source": [
    "# 1. Import potrebných knižníc"
   ]
  },
  {
   "cell_type": "code",
   "execution_count": 1,
   "metadata": {},
   "outputs": [],
   "source": [
    "import pandas as pd\n",
    "import numpy as np"
   ]
  },
  {
   "cell_type": "markdown",
   "metadata": {},
   "source": [
    "# 2. Analýza zhlukov\n",
    "\n",
    "Analyzujeme jednotlivé zhluky SOM mapy. Na začiatku načítame csv súbor výstupnej tabuľky s informáciou o zhlukoch a ďalších parametroch. Sledujeme ako mapa vyzerajá vizuálne, podobnosť zhlukov a ich vzdialenosť. Ďalej pomocou výstupnej tabuľky analyzujeme početnosti jednotlivých atribútov v zhlukoch."
   ]
  },
  {
   "cell_type": "markdown",
   "metadata": {},
   "source": [
    "<H3>3x3 som net with sigma and learning rate optimalized<H3>"
   ]
  },
  {
   "cell_type": "markdown",
   "metadata": {},
   "source": [
    "<img src=\"img/som_3_3_cluster_sig_opti.png\">"
   ]
  },
  {
   "cell_type": "code",
   "execution_count": 2,
   "metadata": {},
   "outputs": [
    {
     "data": {
      "text/html": [
       "<div>\n",
       "<style scoped>\n",
       "    .dataframe tbody tr th:only-of-type {\n",
       "        vertical-align: middle;\n",
       "    }\n",
       "\n",
       "    .dataframe tbody tr th {\n",
       "        vertical-align: top;\n",
       "    }\n",
       "\n",
       "    .dataframe thead th {\n",
       "        text-align: right;\n",
       "    }\n",
       "</style>\n",
       "<table border=\"1\" class=\"dataframe\">\n",
       "  <thead>\n",
       "    <tr style=\"text-align: right;\">\n",
       "      <th></th>\n",
       "      <th>image</th>\n",
       "      <th>tweek</th>\n",
       "      <th>f_min&lt;2kHz</th>\n",
       "      <th>tweek_sign</th>\n",
       "      <th>cluster</th>\n",
       "    </tr>\n",
       "  </thead>\n",
       "  <tbody>\n",
       "    <tr>\n",
       "      <th>0</th>\n",
       "      <td>ch2_20141130_000500_988_s122-S1.jpg</td>\n",
       "      <td>0</td>\n",
       "      <td>0</td>\n",
       "      <td>0</td>\n",
       "      <td>3</td>\n",
       "    </tr>\n",
       "    <tr>\n",
       "      <th>1</th>\n",
       "      <td>ch2_20141130_000500_988_s122-T1.jpg</td>\n",
       "      <td>1</td>\n",
       "      <td>1</td>\n",
       "      <td>4</td>\n",
       "      <td>5</td>\n",
       "    </tr>\n",
       "    <tr>\n",
       "      <th>2</th>\n",
       "      <td>ch2_20141130_000500_988_s122-S2.jpg</td>\n",
       "      <td>0</td>\n",
       "      <td>1</td>\n",
       "      <td>0</td>\n",
       "      <td>5</td>\n",
       "    </tr>\n",
       "    <tr>\n",
       "      <th>3</th>\n",
       "      <td>ch2_20141130_000500_988_s125-S1.jpg</td>\n",
       "      <td>0</td>\n",
       "      <td>1</td>\n",
       "      <td>0</td>\n",
       "      <td>4</td>\n",
       "    </tr>\n",
       "    <tr>\n",
       "      <th>4</th>\n",
       "      <td>ch2_20141130_000500_988_s125-S2.jpg</td>\n",
       "      <td>0</td>\n",
       "      <td>0</td>\n",
       "      <td>0</td>\n",
       "      <td>0</td>\n",
       "    </tr>\n",
       "    <tr>\n",
       "      <th>...</th>\n",
       "      <td>...</td>\n",
       "      <td>...</td>\n",
       "      <td>...</td>\n",
       "      <td>...</td>\n",
       "      <td>...</td>\n",
       "    </tr>\n",
       "    <tr>\n",
       "      <th>13642</th>\n",
       "      <td>ch2_20141130_235542_205_s9-S13.jpg</td>\n",
       "      <td>0</td>\n",
       "      <td>1</td>\n",
       "      <td>0</td>\n",
       "      <td>4</td>\n",
       "    </tr>\n",
       "    <tr>\n",
       "      <th>13643</th>\n",
       "      <td>ch2_20141130_235542_205_s9-S14.jpg</td>\n",
       "      <td>0</td>\n",
       "      <td>0</td>\n",
       "      <td>0</td>\n",
       "      <td>4</td>\n",
       "    </tr>\n",
       "    <tr>\n",
       "      <th>13644</th>\n",
       "      <td>ch2_20141130_235542_205_s9-S15.jpg</td>\n",
       "      <td>0</td>\n",
       "      <td>0</td>\n",
       "      <td>0</td>\n",
       "      <td>4</td>\n",
       "    </tr>\n",
       "    <tr>\n",
       "      <th>13645</th>\n",
       "      <td>ch2_20141130_235542_205_s9-S16.jpg</td>\n",
       "      <td>0</td>\n",
       "      <td>0</td>\n",
       "      <td>0</td>\n",
       "      <td>4</td>\n",
       "    </tr>\n",
       "    <tr>\n",
       "      <th>13646</th>\n",
       "      <td>ch2_20141130_235542_205_s95-S1.jpg</td>\n",
       "      <td>0</td>\n",
       "      <td>1</td>\n",
       "      <td>0</td>\n",
       "      <td>5</td>\n",
       "    </tr>\n",
       "  </tbody>\n",
       "</table>\n",
       "<p>13647 rows × 5 columns</p>\n",
       "</div>"
      ],
      "text/plain": [
       "                                     image  tweek  f_min<2kHz  tweek_sign  \\\n",
       "0      ch2_20141130_000500_988_s122-S1.jpg      0           0           0   \n",
       "1      ch2_20141130_000500_988_s122-T1.jpg      1           1           4   \n",
       "2      ch2_20141130_000500_988_s122-S2.jpg      0           1           0   \n",
       "3      ch2_20141130_000500_988_s125-S1.jpg      0           1           0   \n",
       "4      ch2_20141130_000500_988_s125-S2.jpg      0           0           0   \n",
       "...                                    ...    ...         ...         ...   \n",
       "13642   ch2_20141130_235542_205_s9-S13.jpg      0           1           0   \n",
       "13643   ch2_20141130_235542_205_s9-S14.jpg      0           0           0   \n",
       "13644   ch2_20141130_235542_205_s9-S15.jpg      0           0           0   \n",
       "13645   ch2_20141130_235542_205_s9-S16.jpg      0           0           0   \n",
       "13646   ch2_20141130_235542_205_s95-S1.jpg      0           1           0   \n",
       "\n",
       "       cluster  \n",
       "0            3  \n",
       "1            5  \n",
       "2            5  \n",
       "3            4  \n",
       "4            0  \n",
       "...        ...  \n",
       "13642        4  \n",
       "13643        4  \n",
       "13644        4  \n",
       "13645        4  \n",
       "13646        5  \n",
       "\n",
       "[13647 rows x 5 columns]"
      ]
     },
     "execution_count": 2,
     "metadata": {},
     "output_type": "execute_result"
    }
   ],
   "source": [
    "#load data\n",
    "data = pd.read_csv(\"som_csv/som3_3_sig_opti_2014_11.csv\")\n",
    "data.drop(['org_img', 'event', 'date', 'second', 'milisecond'],axis='columns', inplace=True)\n",
    "data"
   ]
  },
  {
   "cell_type": "code",
   "execution_count": 3,
   "metadata": {},
   "outputs": [
    {
     "data": {
      "text/html": [
       "<div>\n",
       "<style scoped>\n",
       "    .dataframe tbody tr th:only-of-type {\n",
       "        vertical-align: middle;\n",
       "    }\n",
       "\n",
       "    .dataframe tbody tr th {\n",
       "        vertical-align: top;\n",
       "    }\n",
       "\n",
       "    .dataframe thead th {\n",
       "        text-align: right;\n",
       "    }\n",
       "</style>\n",
       "<table border=\"1\" class=\"dataframe\">\n",
       "  <thead>\n",
       "    <tr style=\"text-align: right;\">\n",
       "      <th></th>\n",
       "      <th>image</th>\n",
       "    </tr>\n",
       "    <tr>\n",
       "      <th>cluster</th>\n",
       "      <th></th>\n",
       "    </tr>\n",
       "  </thead>\n",
       "  <tbody>\n",
       "    <tr>\n",
       "      <th>0</th>\n",
       "      <td>1117</td>\n",
       "    </tr>\n",
       "    <tr>\n",
       "      <th>1</th>\n",
       "      <td>376</td>\n",
       "    </tr>\n",
       "    <tr>\n",
       "      <th>2</th>\n",
       "      <td>1065</td>\n",
       "    </tr>\n",
       "    <tr>\n",
       "      <th>3</th>\n",
       "      <td>1067</td>\n",
       "    </tr>\n",
       "    <tr>\n",
       "      <th>4</th>\n",
       "      <td>6011</td>\n",
       "    </tr>\n",
       "    <tr>\n",
       "      <th>5</th>\n",
       "      <td>3434</td>\n",
       "    </tr>\n",
       "    <tr>\n",
       "      <th>6</th>\n",
       "      <td>361</td>\n",
       "    </tr>\n",
       "    <tr>\n",
       "      <th>7</th>\n",
       "      <td>19</td>\n",
       "    </tr>\n",
       "    <tr>\n",
       "      <th>8</th>\n",
       "      <td>197</td>\n",
       "    </tr>\n",
       "  </tbody>\n",
       "</table>\n",
       "</div>"
      ],
      "text/plain": [
       "         image\n",
       "cluster       \n",
       "0         1117\n",
       "1          376\n",
       "2         1065\n",
       "3         1067\n",
       "4         6011\n",
       "5         3434\n",
       "6          361\n",
       "7           19\n",
       "8          197"
      ]
     },
     "execution_count": 3,
     "metadata": {},
     "output_type": "execute_result"
    }
   ],
   "source": [
    "#početnosť imgs v clustroch\n",
    "cluster_count = data.filter(['image','cluster'], axis=1) \n",
    "cluster_count.groupby('cluster').count()"
   ]
  },
  {
   "cell_type": "markdown",
   "metadata": {},
   "source": [
    "<img src=\"img/som_3_3_cluster_sig_opti.png\">"
   ]
  },
  {
   "cell_type": "code",
   "execution_count": 4,
   "metadata": {},
   "outputs": [
    {
     "data": {
      "text/plain": [
       "tweek  cluster\n",
       "0      0          1115\n",
       "       1           301\n",
       "       2           971\n",
       "       3          1067\n",
       "       4          5728\n",
       "       5          2790\n",
       "       6           361\n",
       "       7            18\n",
       "       8            48\n",
       "1      0             2\n",
       "       1            75\n",
       "       2            94\n",
       "       4           283\n",
       "       5           644\n",
       "       7             1\n",
       "       8           149\n",
       "dtype: int64"
      ]
     },
     "execution_count": 4,
     "metadata": {},
     "output_type": "execute_result"
    }
   ],
   "source": [
    "#rozloženie tweekov a sferikov v clustroch\n",
    "tweek_count = data.filter(['tweek','cluster'], axis=1)\n",
    "tweek_count.value_counts(sort=False)"
   ]
  },
  {
   "cell_type": "code",
   "execution_count": 5,
   "metadata": {},
   "outputs": [
    {
     "data": {
      "text/plain": [
       "f_min<2kHz  cluster\n",
       "0           0           868\n",
       "            1            81\n",
       "            2           668\n",
       "            3          1027\n",
       "            4          3911\n",
       "            5           903\n",
       "            6           338\n",
       "            7            12\n",
       "            8             8\n",
       "1           0           249\n",
       "            1           295\n",
       "            2           397\n",
       "            3            40\n",
       "            4          2100\n",
       "            5          2531\n",
       "            6            23\n",
       "            7             7\n",
       "            8           189\n",
       "dtype: int64"
      ]
     },
     "execution_count": 5,
     "metadata": {},
     "output_type": "execute_result"
    }
   ],
   "source": [
    "#rozloženie f_min<2kHz v clustroch\n",
    "fmin_count = data.filter(['f_min<2kHz','cluster'], axis=1)\n",
    "fmin_count.value_counts(sort=False)"
   ]
  },
  {
   "cell_type": "markdown",
   "metadata": {},
   "source": [
    "<img src=\"img/som_3_3_cluster_sig_opti.png\">"
   ]
  },
  {
   "cell_type": "code",
   "execution_count": 6,
   "metadata": {},
   "outputs": [
    {
     "data": {
      "text/plain": [
       "tweek_sign  cluster\n",
       "0           0          1115\n",
       "            1           301\n",
       "            2           971\n",
       "            3          1067\n",
       "            4          5728\n",
       "            5          2790\n",
       "            6           361\n",
       "            7            18\n",
       "            8            48\n",
       "dtype: int64"
      ]
     },
     "execution_count": 6,
     "metadata": {},
     "output_type": "execute_result"
    }
   ],
   "source": [
    "#rozloženie disperzií v clustroch\n",
    "sign_count = data.filter(['tweek_sign','cluster'], axis=1)\n",
    "sign_count = sign_count[sign_count['tweek_sign'] == 0]\n",
    "sign_count.value_counts(sort=False)"
   ]
  },
  {
   "cell_type": "code",
   "execution_count": 7,
   "metadata": {},
   "outputs": [
    {
     "data": {
      "text/plain": [
       "tweek_sign  cluster\n",
       "1           0           1\n",
       "            1          11\n",
       "            2          24\n",
       "            4          19\n",
       "            5          85\n",
       "            8          35\n",
       "dtype: int64"
      ]
     },
     "execution_count": 7,
     "metadata": {},
     "output_type": "execute_result"
    }
   ],
   "source": [
    "sign_count = data.filter(['tweek_sign','cluster'], axis=1)\n",
    "sign_count = sign_count[sign_count['tweek_sign'] == 1]\n",
    "sign_count.value_counts(sort=False)"
   ]
  },
  {
   "cell_type": "code",
   "execution_count": 8,
   "metadata": {},
   "outputs": [
    {
     "data": {
      "text/plain": [
       "tweek_sign  cluster\n",
       "2           1           2\n",
       "            2          15\n",
       "            4          21\n",
       "            5          68\n",
       "            8          36\n",
       "dtype: int64"
      ]
     },
     "execution_count": 8,
     "metadata": {},
     "output_type": "execute_result"
    }
   ],
   "source": [
    "sign_count = data.filter(['tweek_sign','cluster'], axis=1)\n",
    "sign_count = sign_count[sign_count['tweek_sign'] == 2]\n",
    "sign_count.value_counts(sort=False)"
   ]
  },
  {
   "cell_type": "code",
   "execution_count": 9,
   "metadata": {},
   "outputs": [
    {
     "data": {
      "text/plain": [
       "tweek_sign  cluster\n",
       "3           1            8\n",
       "            2           26\n",
       "            4           72\n",
       "            5          100\n",
       "            7            1\n",
       "            8           36\n",
       "dtype: int64"
      ]
     },
     "execution_count": 9,
     "metadata": {},
     "output_type": "execute_result"
    }
   ],
   "source": [
    "sign_count = data.filter(['tweek_sign','cluster'], axis=1)\n",
    "sign_count = sign_count[sign_count['tweek_sign'] == 3]\n",
    "sign_count.value_counts(sort=False)"
   ]
  },
  {
   "cell_type": "code",
   "execution_count": 10,
   "metadata": {},
   "outputs": [
    {
     "data": {
      "text/plain": [
       "tweek_sign  cluster\n",
       "4           0            1\n",
       "            1           54\n",
       "            2           29\n",
       "            4          171\n",
       "            5          391\n",
       "            8           42\n",
       "dtype: int64"
      ]
     },
     "execution_count": 10,
     "metadata": {},
     "output_type": "execute_result"
    }
   ],
   "source": [
    "sign_count = data.filter(['tweek_sign','cluster'], axis=1)\n",
    "sign_count = sign_count[sign_count['tweek_sign'] == 4]\n",
    "sign_count.value_counts(sort=False)"
   ]
  }
 ],
 "metadata": {
  "kernelspec": {
   "display_name": "Python 3",
   "language": "python",
   "name": "python3"
  },
  "language_info": {
   "codemirror_mode": {
    "name": "ipython",
    "version": 3
   },
   "file_extension": ".py",
   "mimetype": "text/x-python",
   "name": "python",
   "nbconvert_exporter": "python",
   "pygments_lexer": "ipython3",
   "version": "3.8.6"
  }
 },
 "nbformat": 4,
 "nbformat_minor": 4
}
