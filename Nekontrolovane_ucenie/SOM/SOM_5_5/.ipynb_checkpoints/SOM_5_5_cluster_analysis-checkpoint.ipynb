{
 "cells": [
  {
   "cell_type": "markdown",
   "metadata": {},
   "source": [
    "## Python notebook \n",
    "V nasledujúcom notebooku sú popísané Python metódy použité pre analýzu zhlukov k-Means. Obsah notebooku je nasledujúci:\n",
    "1. Import potrebných knižníc\n",
    "2. Analýza zhlukov"
   ]
  },
  {
   "cell_type": "markdown",
   "metadata": {},
   "source": [
    "# 1. Import potrebných knižníc"
   ]
  },
  {
   "cell_type": "code",
   "execution_count": 1,
   "metadata": {},
   "outputs": [],
   "source": [
    "import pandas as pd\n",
    "import numpy as np"
   ]
  },
  {
   "cell_type": "markdown",
   "metadata": {},
   "source": [
    "# 2. Analýza zhlukov\n",
    "\n",
    "Analyzujeme jednotlivé zhluky SOM mapy. Na začiatku načítame csv súbor výstupnej tabuľky s informáciou o zhlukoch a ďalších parametroch. Sledujeme ako mapa vyzerajá vizuálne, podobnosť zhlukov a ich vzdialenosť. Ďalej pomocou výstupnej tabuľky analyzujeme početnosti jednotlivých atribútov v zhlukoch."
   ]
  },
  {
   "cell_type": "markdown",
   "metadata": {},
   "source": [
    "<H3>5x5 som net with sigma and learning rate optimalized<H3>"
   ]
  },
  {
   "cell_type": "markdown",
   "metadata": {},
   "source": [
    "<img src=\"img/som_5_5_cluster.png\">"
   ]
  },
  {
   "cell_type": "code",
   "execution_count": 3,
   "metadata": {},
   "outputs": [
    {
     "data": {
      "text/html": [
       "<div>\n",
       "<style scoped>\n",
       "    .dataframe tbody tr th:only-of-type {\n",
       "        vertical-align: middle;\n",
       "    }\n",
       "\n",
       "    .dataframe tbody tr th {\n",
       "        vertical-align: top;\n",
       "    }\n",
       "\n",
       "    .dataframe thead th {\n",
       "        text-align: right;\n",
       "    }\n",
       "</style>\n",
       "<table border=\"1\" class=\"dataframe\">\n",
       "  <thead>\n",
       "    <tr style=\"text-align: right;\">\n",
       "      <th></th>\n",
       "      <th>image</th>\n",
       "      <th>tweek</th>\n",
       "      <th>f_min&lt;2kHz</th>\n",
       "      <th>tweek_sign</th>\n",
       "      <th>cluster</th>\n",
       "    </tr>\n",
       "  </thead>\n",
       "  <tbody>\n",
       "    <tr>\n",
       "      <th>0</th>\n",
       "      <td>ch2_20141130_000500_988_s122-S1.jpg</td>\n",
       "      <td>0</td>\n",
       "      <td>0</td>\n",
       "      <td>0</td>\n",
       "      <td>0</td>\n",
       "    </tr>\n",
       "    <tr>\n",
       "      <th>1</th>\n",
       "      <td>ch2_20141130_000500_988_s122-T1.jpg</td>\n",
       "      <td>1</td>\n",
       "      <td>1</td>\n",
       "      <td>4</td>\n",
       "      <td>22</td>\n",
       "    </tr>\n",
       "    <tr>\n",
       "      <th>2</th>\n",
       "      <td>ch2_20141130_000500_988_s122-S2.jpg</td>\n",
       "      <td>0</td>\n",
       "      <td>1</td>\n",
       "      <td>0</td>\n",
       "      <td>24</td>\n",
       "    </tr>\n",
       "    <tr>\n",
       "      <th>3</th>\n",
       "      <td>ch2_20141130_000500_988_s125-S1.jpg</td>\n",
       "      <td>0</td>\n",
       "      <td>1</td>\n",
       "      <td>0</td>\n",
       "      <td>12</td>\n",
       "    </tr>\n",
       "    <tr>\n",
       "      <th>4</th>\n",
       "      <td>ch2_20141130_000500_988_s125-S2.jpg</td>\n",
       "      <td>0</td>\n",
       "      <td>0</td>\n",
       "      <td>0</td>\n",
       "      <td>0</td>\n",
       "    </tr>\n",
       "    <tr>\n",
       "      <th>...</th>\n",
       "      <td>...</td>\n",
       "      <td>...</td>\n",
       "      <td>...</td>\n",
       "      <td>...</td>\n",
       "      <td>...</td>\n",
       "    </tr>\n",
       "    <tr>\n",
       "      <th>13642</th>\n",
       "      <td>ch2_20141130_235542_205_s9-S13.jpg</td>\n",
       "      <td>0</td>\n",
       "      <td>1</td>\n",
       "      <td>0</td>\n",
       "      <td>9</td>\n",
       "    </tr>\n",
       "    <tr>\n",
       "      <th>13643</th>\n",
       "      <td>ch2_20141130_235542_205_s9-S14.jpg</td>\n",
       "      <td>0</td>\n",
       "      <td>0</td>\n",
       "      <td>0</td>\n",
       "      <td>18</td>\n",
       "    </tr>\n",
       "    <tr>\n",
       "      <th>13644</th>\n",
       "      <td>ch2_20141130_235542_205_s9-S15.jpg</td>\n",
       "      <td>0</td>\n",
       "      <td>0</td>\n",
       "      <td>0</td>\n",
       "      <td>13</td>\n",
       "    </tr>\n",
       "    <tr>\n",
       "      <th>13645</th>\n",
       "      <td>ch2_20141130_235542_205_s9-S16.jpg</td>\n",
       "      <td>0</td>\n",
       "      <td>0</td>\n",
       "      <td>0</td>\n",
       "      <td>13</td>\n",
       "    </tr>\n",
       "    <tr>\n",
       "      <th>13646</th>\n",
       "      <td>ch2_20141130_235542_205_s95-S1.jpg</td>\n",
       "      <td>0</td>\n",
       "      <td>1</td>\n",
       "      <td>0</td>\n",
       "      <td>24</td>\n",
       "    </tr>\n",
       "  </tbody>\n",
       "</table>\n",
       "<p>13647 rows × 5 columns</p>\n",
       "</div>"
      ],
      "text/plain": [
       "                                     image  tweek  f_min<2kHz  tweek_sign  \\\n",
       "0      ch2_20141130_000500_988_s122-S1.jpg      0           0           0   \n",
       "1      ch2_20141130_000500_988_s122-T1.jpg      1           1           4   \n",
       "2      ch2_20141130_000500_988_s122-S2.jpg      0           1           0   \n",
       "3      ch2_20141130_000500_988_s125-S1.jpg      0           1           0   \n",
       "4      ch2_20141130_000500_988_s125-S2.jpg      0           0           0   \n",
       "...                                    ...    ...         ...         ...   \n",
       "13642   ch2_20141130_235542_205_s9-S13.jpg      0           1           0   \n",
       "13643   ch2_20141130_235542_205_s9-S14.jpg      0           0           0   \n",
       "13644   ch2_20141130_235542_205_s9-S15.jpg      0           0           0   \n",
       "13645   ch2_20141130_235542_205_s9-S16.jpg      0           0           0   \n",
       "13646   ch2_20141130_235542_205_s95-S1.jpg      0           1           0   \n",
       "\n",
       "       cluster  \n",
       "0            0  \n",
       "1           22  \n",
       "2           24  \n",
       "3           12  \n",
       "4            0  \n",
       "...        ...  \n",
       "13642        9  \n",
       "13643       18  \n",
       "13644       13  \n",
       "13645       13  \n",
       "13646       24  \n",
       "\n",
       "[13647 rows x 5 columns]"
      ]
     },
     "execution_count": 3,
     "metadata": {},
     "output_type": "execute_result"
    }
   ],
   "source": [
    "#load data\n",
    "data = pd.read_csv(\"som_csv/som5_5_2014_11.csv\")\n",
    "data.drop(['org_img', 'event', 'date', 'second', 'milisecond'],axis='columns', inplace=True)\n",
    "data"
   ]
  },
  {
   "cell_type": "code",
   "execution_count": 4,
   "metadata": {},
   "outputs": [
    {
     "data": {
      "text/html": [
       "<div>\n",
       "<style scoped>\n",
       "    .dataframe tbody tr th:only-of-type {\n",
       "        vertical-align: middle;\n",
       "    }\n",
       "\n",
       "    .dataframe tbody tr th {\n",
       "        vertical-align: top;\n",
       "    }\n",
       "\n",
       "    .dataframe thead th {\n",
       "        text-align: right;\n",
       "    }\n",
       "</style>\n",
       "<table border=\"1\" class=\"dataframe\">\n",
       "  <thead>\n",
       "    <tr style=\"text-align: right;\">\n",
       "      <th></th>\n",
       "      <th>image</th>\n",
       "    </tr>\n",
       "    <tr>\n",
       "      <th>cluster</th>\n",
       "      <th></th>\n",
       "    </tr>\n",
       "  </thead>\n",
       "  <tbody>\n",
       "    <tr>\n",
       "      <th>0</th>\n",
       "      <td>2349</td>\n",
       "    </tr>\n",
       "    <tr>\n",
       "      <th>1</th>\n",
       "      <td>60</td>\n",
       "    </tr>\n",
       "    <tr>\n",
       "      <th>2</th>\n",
       "      <td>13</td>\n",
       "    </tr>\n",
       "    <tr>\n",
       "      <th>4</th>\n",
       "      <td>11</td>\n",
       "    </tr>\n",
       "    <tr>\n",
       "      <th>5</th>\n",
       "      <td>35</td>\n",
       "    </tr>\n",
       "    <tr>\n",
       "      <th>6</th>\n",
       "      <td>1</td>\n",
       "    </tr>\n",
       "    <tr>\n",
       "      <th>7</th>\n",
       "      <td>415</td>\n",
       "    </tr>\n",
       "    <tr>\n",
       "      <th>8</th>\n",
       "      <td>40</td>\n",
       "    </tr>\n",
       "    <tr>\n",
       "      <th>9</th>\n",
       "      <td>484</td>\n",
       "    </tr>\n",
       "    <tr>\n",
       "      <th>10</th>\n",
       "      <td>647</td>\n",
       "    </tr>\n",
       "    <tr>\n",
       "      <th>11</th>\n",
       "      <td>11</td>\n",
       "    </tr>\n",
       "    <tr>\n",
       "      <th>12</th>\n",
       "      <td>1896</td>\n",
       "    </tr>\n",
       "    <tr>\n",
       "      <th>13</th>\n",
       "      <td>631</td>\n",
       "    </tr>\n",
       "    <tr>\n",
       "      <th>15</th>\n",
       "      <td>16</td>\n",
       "    </tr>\n",
       "    <tr>\n",
       "      <th>17</th>\n",
       "      <td>22</td>\n",
       "    </tr>\n",
       "    <tr>\n",
       "      <th>18</th>\n",
       "      <td>2467</td>\n",
       "    </tr>\n",
       "    <tr>\n",
       "      <th>19</th>\n",
       "      <td>141</td>\n",
       "    </tr>\n",
       "    <tr>\n",
       "      <th>20</th>\n",
       "      <td>885</td>\n",
       "    </tr>\n",
       "    <tr>\n",
       "      <th>21</th>\n",
       "      <td>5</td>\n",
       "    </tr>\n",
       "    <tr>\n",
       "      <th>22</th>\n",
       "      <td>1779</td>\n",
       "    </tr>\n",
       "    <tr>\n",
       "      <th>23</th>\n",
       "      <td>684</td>\n",
       "    </tr>\n",
       "    <tr>\n",
       "      <th>24</th>\n",
       "      <td>1055</td>\n",
       "    </tr>\n",
       "  </tbody>\n",
       "</table>\n",
       "</div>"
      ],
      "text/plain": [
       "         image\n",
       "cluster       \n",
       "0         2349\n",
       "1           60\n",
       "2           13\n",
       "4           11\n",
       "5           35\n",
       "6            1\n",
       "7          415\n",
       "8           40\n",
       "9          484\n",
       "10         647\n",
       "11          11\n",
       "12        1896\n",
       "13         631\n",
       "15          16\n",
       "17          22\n",
       "18        2467\n",
       "19         141\n",
       "20         885\n",
       "21           5\n",
       "22        1779\n",
       "23         684\n",
       "24        1055"
      ]
     },
     "execution_count": 4,
     "metadata": {},
     "output_type": "execute_result"
    }
   ],
   "source": [
    "#pocetnost imgs v clustroch\n",
    "cluster_count = data.filter(['image','cluster'], axis=1) \n",
    "cluster_count.groupby('cluster').count()"
   ]
  },
  {
   "cell_type": "markdown",
   "metadata": {},
   "source": [
    "<img src=\"img/som_5_5_cluster.png\">"
   ]
  },
  {
   "cell_type": "code",
   "execution_count": 5,
   "metadata": {},
   "outputs": [
    {
     "data": {
      "text/plain": [
       "tweek  cluster\n",
       "0      0          2336\n",
       "       1            53\n",
       "       2             7\n",
       "       4             8\n",
       "       5            34\n",
       "       6             1\n",
       "       7           303\n",
       "       8            23\n",
       "       9           478\n",
       "       10          639\n",
       "       11           11\n",
       "       12         1815\n",
       "       13          630\n",
       "       15           16\n",
       "       17           22\n",
       "       18         2448\n",
       "       19          141\n",
       "       20          804\n",
       "       21            5\n",
       "       22         1676\n",
       "       23          260\n",
       "       24          689\n",
       "1      0            13\n",
       "       1             7\n",
       "       2             6\n",
       "       4             3\n",
       "       5             1\n",
       "       7           112\n",
       "       8            17\n",
       "       9             6\n",
       "       10            8\n",
       "       12           81\n",
       "       13            1\n",
       "       18           19\n",
       "       20           81\n",
       "       22          103\n",
       "       23          424\n",
       "       24          366\n",
       "dtype: int64"
      ]
     },
     "execution_count": 5,
     "metadata": {},
     "output_type": "execute_result"
    }
   ],
   "source": [
    "#rozlozenie tweekov a sphericov v clustroch\n",
    "tweek_count = data.filter(['tweek','cluster'], axis=1)\n",
    "tweek_count.value_counts(sort=False)"
   ]
  },
  {
   "cell_type": "code",
   "execution_count": 6,
   "metadata": {},
   "outputs": [
    {
     "data": {
      "text/plain": [
       "f_min<2kHz  cluster\n",
       "0           0          2022\n",
       "            1            26\n",
       "            2             4\n",
       "            4             2\n",
       "            5            13\n",
       "            7           151\n",
       "            8            11\n",
       "            9           274\n",
       "            10          344\n",
       "            11           10\n",
       "            12         1165\n",
       "            13          569\n",
       "            15           16\n",
       "            17           22\n",
       "            18         2001\n",
       "            19          128\n",
       "            20          201\n",
       "            21            1\n",
       "            22          612\n",
       "            23           21\n",
       "            24          223\n",
       "1           0           327\n",
       "            1            34\n",
       "            2             9\n",
       "            4             9\n",
       "            5            22\n",
       "            6             1\n",
       "            7           264\n",
       "            8            29\n",
       "            9           210\n",
       "            10          303\n",
       "            11            1\n",
       "            12          731\n",
       "            13           62\n",
       "            18          466\n",
       "            19           13\n",
       "            20          684\n",
       "            21            4\n",
       "            22         1167\n",
       "            23          663\n",
       "            24          832\n",
       "dtype: int64"
      ]
     },
     "execution_count": 6,
     "metadata": {},
     "output_type": "execute_result"
    }
   ],
   "source": [
    "fmin_count = data.filter(['f_min<2kHz','cluster'], axis=1)\n",
    "fmin_count.value_counts(sort=False)"
   ]
  },
  {
   "cell_type": "markdown",
   "metadata": {},
   "source": [
    "<img src=\"img/som_5_5_cluster.png\">"
   ]
  },
  {
   "cell_type": "code",
   "execution_count": 9,
   "metadata": {},
   "outputs": [
    {
     "data": {
      "text/plain": [
       "tweek_sign  cluster\n",
       "0           0          2336\n",
       "            1            53\n",
       "            2             7\n",
       "            4             8\n",
       "            5            34\n",
       "            6             1\n",
       "            7           303\n",
       "            8            23\n",
       "            9           478\n",
       "            10          639\n",
       "            11           11\n",
       "            12         1815\n",
       "            13          630\n",
       "            15           16\n",
       "            17           22\n",
       "            18         2448\n",
       "            19          141\n",
       "            20          804\n",
       "            21            5\n",
       "            22         1676\n",
       "            23          260\n",
       "            24          689\n",
       "dtype: int64"
      ]
     },
     "execution_count": 9,
     "metadata": {},
     "output_type": "execute_result"
    }
   ],
   "source": [
    "sign_count = data.filter(['tweek_sign','cluster'], axis=1)\n",
    "sign_count = sign_count[sign_count['tweek_sign'] == 0]\n",
    "sign_count.value_counts(sort=False)"
   ]
  },
  {
   "cell_type": "code",
   "execution_count": 10,
   "metadata": {},
   "outputs": [
    {
     "data": {
      "text/plain": [
       "tweek_sign  cluster\n",
       "1           0           4\n",
       "            1           2\n",
       "            2           1\n",
       "            7          25\n",
       "            8           1\n",
       "            9           1\n",
       "            10          4\n",
       "            12         13\n",
       "            18          7\n",
       "            20         26\n",
       "            22         26\n",
       "            23         34\n",
       "            24         31\n",
       "dtype: int64"
      ]
     },
     "execution_count": 10,
     "metadata": {},
     "output_type": "execute_result"
    }
   ],
   "source": [
    "sign_count = data.filter(['tweek_sign','cluster'], axis=1)\n",
    "sign_count = sign_count[sign_count['tweek_sign'] == 1]\n",
    "sign_count.value_counts(sort=False)"
   ]
  },
  {
   "cell_type": "code",
   "execution_count": 11,
   "metadata": {},
   "outputs": [
    {
     "data": {
      "text/plain": [
       "tweek_sign  cluster\n",
       "2           0           1\n",
       "            1           2\n",
       "            2           3\n",
       "            7          14\n",
       "            8           2\n",
       "            9           2\n",
       "            10          2\n",
       "            12         13\n",
       "            18          2\n",
       "            20         11\n",
       "            22          9\n",
       "            23         62\n",
       "            24         19\n",
       "dtype: int64"
      ]
     },
     "execution_count": 11,
     "metadata": {},
     "output_type": "execute_result"
    }
   ],
   "source": [
    "sign_count = data.filter(['tweek_sign','cluster'], axis=1)\n",
    "sign_count = sign_count[sign_count['tweek_sign'] == 2]\n",
    "sign_count.value_counts(sort=False)"
   ]
  },
  {
   "cell_type": "code",
   "execution_count": 12,
   "metadata": {},
   "outputs": [
    {
     "data": {
      "text/plain": [
       "tweek_sign  cluster\n",
       "3           0           3\n",
       "            1           3\n",
       "            4           2\n",
       "            7          30\n",
       "            8           4\n",
       "            9           2\n",
       "            10          1\n",
       "            12         21\n",
       "            18          2\n",
       "            20         16\n",
       "            22         11\n",
       "            23         95\n",
       "            24         53\n",
       "dtype: int64"
      ]
     },
     "execution_count": 12,
     "metadata": {},
     "output_type": "execute_result"
    }
   ],
   "source": [
    "sign_count = data.filter(['tweek_sign','cluster'], axis=1)\n",
    "sign_count = sign_count[sign_count['tweek_sign'] == 3]\n",
    "sign_count.value_counts(sort=False)"
   ]
  },
  {
   "cell_type": "code",
   "execution_count": 13,
   "metadata": {},
   "outputs": [
    {
     "data": {
      "text/plain": [
       "tweek_sign  cluster\n",
       "4           0            5\n",
       "            2            2\n",
       "            4            1\n",
       "            5            1\n",
       "            7           43\n",
       "            8           10\n",
       "            9            1\n",
       "            10           1\n",
       "            12          34\n",
       "            13           1\n",
       "            18           8\n",
       "            20          28\n",
       "            22          57\n",
       "            23         233\n",
       "            24         263\n",
       "dtype: int64"
      ]
     },
     "execution_count": 13,
     "metadata": {},
     "output_type": "execute_result"
    }
   ],
   "source": [
    "sign_count = data.filter(['tweek_sign','cluster'], axis=1)\n",
    "sign_count = sign_count[sign_count['tweek_sign'] == 4]\n",
    "sign_count.value_counts(sort=False)"
   ]
  }
 ],
 "metadata": {
  "kernelspec": {
   "display_name": "Python 3",
   "language": "python",
   "name": "python3"
  },
  "language_info": {
   "codemirror_mode": {
    "name": "ipython",
    "version": 3
   },
   "file_extension": ".py",
   "mimetype": "text/x-python",
   "name": "python",
   "nbconvert_exporter": "python",
   "pygments_lexer": "ipython3",
   "version": "3.8.6"
  }
 },
 "nbformat": 4,
 "nbformat_minor": 4
}
