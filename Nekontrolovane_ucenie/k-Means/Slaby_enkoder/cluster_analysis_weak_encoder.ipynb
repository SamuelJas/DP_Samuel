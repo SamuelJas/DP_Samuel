{
 "cells": [
  {
   "cell_type": "markdown",
   "metadata": {},
   "source": [
    "## Python notebook \n",
    "V nasledujúcom notebooku sú popísané Python metódy použité pre analýzu zhlukov k-Means. Obsah notebooku je nasledujúci:\n",
    "1. Import potrebných knižníc\n",
    "2. Analýza zhlukov"
   ]
  },
  {
   "cell_type": "markdown",
   "metadata": {},
   "source": [
    "# 1. Import potrebných knižníc"
   ]
  },
  {
   "cell_type": "code",
   "execution_count": 1,
   "metadata": {},
   "outputs": [],
   "source": [
    "import pandas as pd\n",
    "import numpy as np"
   ]
  },
  {
   "cell_type": "markdown",
   "metadata": {},
   "source": [
    "# 2. Analýza zhlukov\n",
    "Analyzujeme zhlukovanie do 5, 6 a 7 zhlukov. Na začiatku načítame csv súbor pre konkrétne zhlukovanie a ten ďalej analyzujeme. Sledujeme ako zhluky vyzerajú vizuálne a aké sú početnosti jednotlivých atribútov obsiahnutých v csv súbore."
   ]
  },
  {
   "cell_type": "markdown",
   "metadata": {},
   "source": [
    "<H3>K means weak encoder 5 clusters<H3>"
   ]
  },
  {
   "cell_type": "code",
   "execution_count": 2,
   "metadata": {},
   "outputs": [
    {
     "data": {
      "text/html": [
       "<div>\n",
       "<style scoped>\n",
       "    .dataframe tbody tr th:only-of-type {\n",
       "        vertical-align: middle;\n",
       "    }\n",
       "\n",
       "    .dataframe tbody tr th {\n",
       "        vertical-align: top;\n",
       "    }\n",
       "\n",
       "    .dataframe thead th {\n",
       "        text-align: right;\n",
       "    }\n",
       "</style>\n",
       "<table border=\"1\" class=\"dataframe\">\n",
       "  <thead>\n",
       "    <tr style=\"text-align: right;\">\n",
       "      <th></th>\n",
       "      <th>image</th>\n",
       "      <th>tweek</th>\n",
       "      <th>f_min&lt;2kHz</th>\n",
       "      <th>tweek_sign</th>\n",
       "      <th>cluster</th>\n",
       "    </tr>\n",
       "  </thead>\n",
       "  <tbody>\n",
       "    <tr>\n",
       "      <th>0</th>\n",
       "      <td>ch2_20141130_000500_988_s122-S1.jpg</td>\n",
       "      <td>0</td>\n",
       "      <td>0</td>\n",
       "      <td>0</td>\n",
       "      <td>1</td>\n",
       "    </tr>\n",
       "    <tr>\n",
       "      <th>1</th>\n",
       "      <td>ch2_20141130_000500_988_s122-T1.jpg</td>\n",
       "      <td>1</td>\n",
       "      <td>1</td>\n",
       "      <td>4</td>\n",
       "      <td>3</td>\n",
       "    </tr>\n",
       "    <tr>\n",
       "      <th>2</th>\n",
       "      <td>ch2_20141130_000500_988_s122-S2.jpg</td>\n",
       "      <td>0</td>\n",
       "      <td>1</td>\n",
       "      <td>0</td>\n",
       "      <td>3</td>\n",
       "    </tr>\n",
       "    <tr>\n",
       "      <th>3</th>\n",
       "      <td>ch2_20141130_000500_988_s125-S1.jpg</td>\n",
       "      <td>0</td>\n",
       "      <td>1</td>\n",
       "      <td>0</td>\n",
       "      <td>2</td>\n",
       "    </tr>\n",
       "    <tr>\n",
       "      <th>4</th>\n",
       "      <td>ch2_20141130_000500_988_s125-S2.jpg</td>\n",
       "      <td>0</td>\n",
       "      <td>0</td>\n",
       "      <td>0</td>\n",
       "      <td>1</td>\n",
       "    </tr>\n",
       "    <tr>\n",
       "      <th>...</th>\n",
       "      <td>...</td>\n",
       "      <td>...</td>\n",
       "      <td>...</td>\n",
       "      <td>...</td>\n",
       "      <td>...</td>\n",
       "    </tr>\n",
       "    <tr>\n",
       "      <th>13642</th>\n",
       "      <td>ch2_20141130_235542_205_s9-S13.jpg</td>\n",
       "      <td>0</td>\n",
       "      <td>1</td>\n",
       "      <td>0</td>\n",
       "      <td>4</td>\n",
       "    </tr>\n",
       "    <tr>\n",
       "      <th>13643</th>\n",
       "      <td>ch2_20141130_235542_205_s9-S14.jpg</td>\n",
       "      <td>0</td>\n",
       "      <td>0</td>\n",
       "      <td>0</td>\n",
       "      <td>4</td>\n",
       "    </tr>\n",
       "    <tr>\n",
       "      <th>13644</th>\n",
       "      <td>ch2_20141130_235542_205_s9-S15.jpg</td>\n",
       "      <td>0</td>\n",
       "      <td>0</td>\n",
       "      <td>0</td>\n",
       "      <td>4</td>\n",
       "    </tr>\n",
       "    <tr>\n",
       "      <th>13645</th>\n",
       "      <td>ch2_20141130_235542_205_s9-S16.jpg</td>\n",
       "      <td>0</td>\n",
       "      <td>0</td>\n",
       "      <td>0</td>\n",
       "      <td>4</td>\n",
       "    </tr>\n",
       "    <tr>\n",
       "      <th>13646</th>\n",
       "      <td>ch2_20141130_235542_205_s95-S1.jpg</td>\n",
       "      <td>0</td>\n",
       "      <td>1</td>\n",
       "      <td>0</td>\n",
       "      <td>3</td>\n",
       "    </tr>\n",
       "  </tbody>\n",
       "</table>\n",
       "<p>13647 rows × 5 columns</p>\n",
       "</div>"
      ],
      "text/plain": [
       "                                     image  tweek  f_min<2kHz  tweek_sign  \\\n",
       "0      ch2_20141130_000500_988_s122-S1.jpg      0           0           0   \n",
       "1      ch2_20141130_000500_988_s122-T1.jpg      1           1           4   \n",
       "2      ch2_20141130_000500_988_s122-S2.jpg      0           1           0   \n",
       "3      ch2_20141130_000500_988_s125-S1.jpg      0           1           0   \n",
       "4      ch2_20141130_000500_988_s125-S2.jpg      0           0           0   \n",
       "...                                    ...    ...         ...         ...   \n",
       "13642   ch2_20141130_235542_205_s9-S13.jpg      0           1           0   \n",
       "13643   ch2_20141130_235542_205_s9-S14.jpg      0           0           0   \n",
       "13644   ch2_20141130_235542_205_s9-S15.jpg      0           0           0   \n",
       "13645   ch2_20141130_235542_205_s9-S16.jpg      0           0           0   \n",
       "13646   ch2_20141130_235542_205_s95-S1.jpg      0           1           0   \n",
       "\n",
       "       cluster  \n",
       "0            1  \n",
       "1            3  \n",
       "2            3  \n",
       "3            2  \n",
       "4            1  \n",
       "...        ...  \n",
       "13642        4  \n",
       "13643        4  \n",
       "13644        4  \n",
       "13645        4  \n",
       "13646        3  \n",
       "\n",
       "[13647 rows x 5 columns]"
      ]
     },
     "execution_count": 2,
     "metadata": {},
     "output_type": "execute_result"
    }
   ],
   "source": [
    "#load data\n",
    "data = pd.read_csv(\"cluster_csv/lowdim_K5_2014_11.csv\")\n",
    "data.drop(['org_img', 'event', 'date', 'second', 'milisecond'],axis='columns', inplace=True)\n",
    "data"
   ]
  },
  {
   "cell_type": "code",
   "execution_count": 3,
   "metadata": {},
   "outputs": [
    {
     "data": {
      "text/html": [
       "<div>\n",
       "<style scoped>\n",
       "    .dataframe tbody tr th:only-of-type {\n",
       "        vertical-align: middle;\n",
       "    }\n",
       "\n",
       "    .dataframe tbody tr th {\n",
       "        vertical-align: top;\n",
       "    }\n",
       "\n",
       "    .dataframe thead th {\n",
       "        text-align: right;\n",
       "    }\n",
       "</style>\n",
       "<table border=\"1\" class=\"dataframe\">\n",
       "  <thead>\n",
       "    <tr style=\"text-align: right;\">\n",
       "      <th></th>\n",
       "      <th>image</th>\n",
       "    </tr>\n",
       "    <tr>\n",
       "      <th>cluster</th>\n",
       "      <th></th>\n",
       "    </tr>\n",
       "  </thead>\n",
       "  <tbody>\n",
       "    <tr>\n",
       "      <th>0</th>\n",
       "      <td>2680</td>\n",
       "    </tr>\n",
       "    <tr>\n",
       "      <th>1</th>\n",
       "      <td>1745</td>\n",
       "    </tr>\n",
       "    <tr>\n",
       "      <th>2</th>\n",
       "      <td>3573</td>\n",
       "    </tr>\n",
       "    <tr>\n",
       "      <th>3</th>\n",
       "      <td>2104</td>\n",
       "    </tr>\n",
       "    <tr>\n",
       "      <th>4</th>\n",
       "      <td>3545</td>\n",
       "    </tr>\n",
       "  </tbody>\n",
       "</table>\n",
       "</div>"
      ],
      "text/plain": [
       "         image\n",
       "cluster       \n",
       "0         2680\n",
       "1         1745\n",
       "2         3573\n",
       "3         2104\n",
       "4         3545"
      ]
     },
     "execution_count": 3,
     "metadata": {},
     "output_type": "execute_result"
    }
   ],
   "source": [
    "#pocetnost imgs v clustroch\n",
    "cluster_count = data.filter(['image','cluster'], axis=1) \n",
    "cluster_count.groupby('cluster').count()"
   ]
  },
  {
   "cell_type": "markdown",
   "metadata": {},
   "source": [
    "<img src=\"cluster_img_cropped/lowdim_K5.png\">"
   ]
  },
  {
   "cell_type": "code",
   "execution_count": 4,
   "metadata": {},
   "outputs": [
    {
     "data": {
      "text/plain": [
       "tweek  cluster\n",
       "0      0          1794\n",
       "       1          1745\n",
       "       2          3449\n",
       "       3          1913\n",
       "       4          3498\n",
       "1      0           886\n",
       "       2           124\n",
       "       3           191\n",
       "       4            47\n",
       "dtype: int64"
      ]
     },
     "execution_count": 4,
     "metadata": {},
     "output_type": "execute_result"
    }
   ],
   "source": [
    "#rozlozenie tweekov a sphericov v clustroch\n",
    "tweek_count = data.filter(['tweek','cluster'], axis=1)\n",
    "tweek_count.value_counts(sort=False)"
   ]
  },
  {
   "cell_type": "code",
   "execution_count": 5,
   "metadata": {},
   "outputs": [
    {
     "data": {
      "text/plain": [
       "f_min<2kHz  cluster\n",
       "0           0           500\n",
       "            1          1673\n",
       "            2          2196\n",
       "            3           703\n",
       "            4          2744\n",
       "1           0          2180\n",
       "            1            72\n",
       "            2          1377\n",
       "            3          1401\n",
       "            4           801\n",
       "dtype: int64"
      ]
     },
     "execution_count": 5,
     "metadata": {},
     "output_type": "execute_result"
    }
   ],
   "source": [
    "fmin_count = data.filter(['f_min<2kHz','cluster'], axis=1)\n",
    "fmin_count.value_counts(sort=False)"
   ]
  },
  {
   "cell_type": "code",
   "execution_count": 6,
   "metadata": {},
   "outputs": [
    {
     "data": {
      "text/plain": [
       "tweek_sign  cluster\n",
       "0           0          1794\n",
       "            1          1745\n",
       "            2          3449\n",
       "            3          1913\n",
       "            4          3498\n",
       "1           0           104\n",
       "            2            25\n",
       "            3            40\n",
       "            4             6\n",
       "2           0           116\n",
       "            2            14\n",
       "            3             9\n",
       "            4             3\n",
       "3           0           178\n",
       "            2            38\n",
       "            3            14\n",
       "            4            13\n",
       "4           0           488\n",
       "            2            47\n",
       "            3           128\n",
       "            4            25\n",
       "dtype: int64"
      ]
     },
     "execution_count": 6,
     "metadata": {},
     "output_type": "execute_result"
    }
   ],
   "source": [
    "sign_count = data.filter(['tweek_sign','cluster'], axis=1)\n",
    "sign_count.value_counts(sort=False)"
   ]
  },
  {
   "cell_type": "markdown",
   "metadata": {},
   "source": [
    "<H3>K means weak encoder 6 clusters<H3>"
   ]
  },
  {
   "cell_type": "code",
   "execution_count": 7,
   "metadata": {},
   "outputs": [
    {
     "data": {
      "text/html": [
       "<div>\n",
       "<style scoped>\n",
       "    .dataframe tbody tr th:only-of-type {\n",
       "        vertical-align: middle;\n",
       "    }\n",
       "\n",
       "    .dataframe tbody tr th {\n",
       "        vertical-align: top;\n",
       "    }\n",
       "\n",
       "    .dataframe thead th {\n",
       "        text-align: right;\n",
       "    }\n",
       "</style>\n",
       "<table border=\"1\" class=\"dataframe\">\n",
       "  <thead>\n",
       "    <tr style=\"text-align: right;\">\n",
       "      <th></th>\n",
       "      <th>image</th>\n",
       "      <th>tweek</th>\n",
       "      <th>f_min&lt;2kHz</th>\n",
       "      <th>tweek_sign</th>\n",
       "      <th>cluster</th>\n",
       "    </tr>\n",
       "  </thead>\n",
       "  <tbody>\n",
       "    <tr>\n",
       "      <th>0</th>\n",
       "      <td>ch2_20141130_000500_988_s122-S1.jpg</td>\n",
       "      <td>0</td>\n",
       "      <td>0</td>\n",
       "      <td>0</td>\n",
       "      <td>1</td>\n",
       "    </tr>\n",
       "    <tr>\n",
       "      <th>1</th>\n",
       "      <td>ch2_20141130_000500_988_s122-T1.jpg</td>\n",
       "      <td>1</td>\n",
       "      <td>1</td>\n",
       "      <td>4</td>\n",
       "      <td>3</td>\n",
       "    </tr>\n",
       "    <tr>\n",
       "      <th>2</th>\n",
       "      <td>ch2_20141130_000500_988_s122-S2.jpg</td>\n",
       "      <td>0</td>\n",
       "      <td>1</td>\n",
       "      <td>0</td>\n",
       "      <td>3</td>\n",
       "    </tr>\n",
       "    <tr>\n",
       "      <th>3</th>\n",
       "      <td>ch2_20141130_000500_988_s125-S1.jpg</td>\n",
       "      <td>0</td>\n",
       "      <td>1</td>\n",
       "      <td>0</td>\n",
       "      <td>2</td>\n",
       "    </tr>\n",
       "    <tr>\n",
       "      <th>4</th>\n",
       "      <td>ch2_20141130_000500_988_s125-S2.jpg</td>\n",
       "      <td>0</td>\n",
       "      <td>0</td>\n",
       "      <td>0</td>\n",
       "      <td>1</td>\n",
       "    </tr>\n",
       "    <tr>\n",
       "      <th>...</th>\n",
       "      <td>...</td>\n",
       "      <td>...</td>\n",
       "      <td>...</td>\n",
       "      <td>...</td>\n",
       "      <td>...</td>\n",
       "    </tr>\n",
       "    <tr>\n",
       "      <th>13642</th>\n",
       "      <td>ch2_20141130_235542_205_s9-S13.jpg</td>\n",
       "      <td>0</td>\n",
       "      <td>1</td>\n",
       "      <td>0</td>\n",
       "      <td>5</td>\n",
       "    </tr>\n",
       "    <tr>\n",
       "      <th>13643</th>\n",
       "      <td>ch2_20141130_235542_205_s9-S14.jpg</td>\n",
       "      <td>0</td>\n",
       "      <td>0</td>\n",
       "      <td>0</td>\n",
       "      <td>5</td>\n",
       "    </tr>\n",
       "    <tr>\n",
       "      <th>13644</th>\n",
       "      <td>ch2_20141130_235542_205_s9-S15.jpg</td>\n",
       "      <td>0</td>\n",
       "      <td>0</td>\n",
       "      <td>0</td>\n",
       "      <td>5</td>\n",
       "    </tr>\n",
       "    <tr>\n",
       "      <th>13645</th>\n",
       "      <td>ch2_20141130_235542_205_s9-S16.jpg</td>\n",
       "      <td>0</td>\n",
       "      <td>0</td>\n",
       "      <td>0</td>\n",
       "      <td>5</td>\n",
       "    </tr>\n",
       "    <tr>\n",
       "      <th>13646</th>\n",
       "      <td>ch2_20141130_235542_205_s95-S1.jpg</td>\n",
       "      <td>0</td>\n",
       "      <td>1</td>\n",
       "      <td>0</td>\n",
       "      <td>3</td>\n",
       "    </tr>\n",
       "  </tbody>\n",
       "</table>\n",
       "<p>13647 rows × 5 columns</p>\n",
       "</div>"
      ],
      "text/plain": [
       "                                     image  tweek  f_min<2kHz  tweek_sign  \\\n",
       "0      ch2_20141130_000500_988_s122-S1.jpg      0           0           0   \n",
       "1      ch2_20141130_000500_988_s122-T1.jpg      1           1           4   \n",
       "2      ch2_20141130_000500_988_s122-S2.jpg      0           1           0   \n",
       "3      ch2_20141130_000500_988_s125-S1.jpg      0           1           0   \n",
       "4      ch2_20141130_000500_988_s125-S2.jpg      0           0           0   \n",
       "...                                    ...    ...         ...         ...   \n",
       "13642   ch2_20141130_235542_205_s9-S13.jpg      0           1           0   \n",
       "13643   ch2_20141130_235542_205_s9-S14.jpg      0           0           0   \n",
       "13644   ch2_20141130_235542_205_s9-S15.jpg      0           0           0   \n",
       "13645   ch2_20141130_235542_205_s9-S16.jpg      0           0           0   \n",
       "13646   ch2_20141130_235542_205_s95-S1.jpg      0           1           0   \n",
       "\n",
       "       cluster  \n",
       "0            1  \n",
       "1            3  \n",
       "2            3  \n",
       "3            2  \n",
       "4            1  \n",
       "...        ...  \n",
       "13642        5  \n",
       "13643        5  \n",
       "13644        5  \n",
       "13645        5  \n",
       "13646        3  \n",
       "\n",
       "[13647 rows x 5 columns]"
      ]
     },
     "execution_count": 7,
     "metadata": {},
     "output_type": "execute_result"
    }
   ],
   "source": [
    "#load data\n",
    "data = pd.read_csv(\"cluster_csv/lowdim_K6_2014_11.csv\")\n",
    "data.drop(['org_img', 'event', 'date', 'second', 'milisecond'],axis='columns', inplace=True)\n",
    "data"
   ]
  },
  {
   "cell_type": "code",
   "execution_count": 8,
   "metadata": {},
   "outputs": [
    {
     "data": {
      "text/html": [
       "<div>\n",
       "<style scoped>\n",
       "    .dataframe tbody tr th:only-of-type {\n",
       "        vertical-align: middle;\n",
       "    }\n",
       "\n",
       "    .dataframe tbody tr th {\n",
       "        vertical-align: top;\n",
       "    }\n",
       "\n",
       "    .dataframe thead th {\n",
       "        text-align: right;\n",
       "    }\n",
       "</style>\n",
       "<table border=\"1\" class=\"dataframe\">\n",
       "  <thead>\n",
       "    <tr style=\"text-align: right;\">\n",
       "      <th></th>\n",
       "      <th>image</th>\n",
       "    </tr>\n",
       "    <tr>\n",
       "      <th>cluster</th>\n",
       "      <th></th>\n",
       "    </tr>\n",
       "  </thead>\n",
       "  <tbody>\n",
       "    <tr>\n",
       "      <th>0</th>\n",
       "      <td>1432</td>\n",
       "    </tr>\n",
       "    <tr>\n",
       "      <th>1</th>\n",
       "      <td>1700</td>\n",
       "    </tr>\n",
       "    <tr>\n",
       "      <th>2</th>\n",
       "      <td>3267</td>\n",
       "    </tr>\n",
       "    <tr>\n",
       "      <th>3</th>\n",
       "      <td>1925</td>\n",
       "    </tr>\n",
       "    <tr>\n",
       "      <th>4</th>\n",
       "      <td>2055</td>\n",
       "    </tr>\n",
       "    <tr>\n",
       "      <th>5</th>\n",
       "      <td>3268</td>\n",
       "    </tr>\n",
       "  </tbody>\n",
       "</table>\n",
       "</div>"
      ],
      "text/plain": [
       "         image\n",
       "cluster       \n",
       "0         1432\n",
       "1         1700\n",
       "2         3267\n",
       "3         1925\n",
       "4         2055\n",
       "5         3268"
      ]
     },
     "execution_count": 8,
     "metadata": {},
     "output_type": "execute_result"
    }
   ],
   "source": [
    "#pocetnost imgs v clustroch\n",
    "cluster_count = data.filter(['image','cluster'], axis=1) \n",
    "cluster_count.groupby('cluster').count()"
   ]
  },
  {
   "cell_type": "markdown",
   "metadata": {},
   "source": [
    "<img src=\"cluster_img_cropped/lowdim_K6.png\">"
   ]
  },
  {
   "cell_type": "code",
   "execution_count": 9,
   "metadata": {},
   "outputs": [
    {
     "data": {
      "text/plain": [
       "tweek  cluster\n",
       "0      0           498\n",
       "       1          1700\n",
       "       2          3174\n",
       "       3          1750\n",
       "       4          2032\n",
       "       5          3245\n",
       "1      0           934\n",
       "       2            93\n",
       "       3           175\n",
       "       4            23\n",
       "       5            23\n",
       "dtype: int64"
      ]
     },
     "execution_count": 9,
     "metadata": {},
     "output_type": "execute_result"
    }
   ],
   "source": [
    "#rozlozenie tweekov a sphericov v clustroch\n",
    "tweek_count = data.filter(['tweek','cluster'], axis=1)\n",
    "tweek_count.value_counts(sort=False)"
   ]
  },
  {
   "cell_type": "code",
   "execution_count": 10,
   "metadata": {},
   "outputs": [
    {
     "data": {
      "text/plain": [
       "f_min<2kHz  cluster\n",
       "0           0           189\n",
       "            1          1630\n",
       "            2          2083\n",
       "            3           605\n",
       "            4           754\n",
       "            5          2555\n",
       "1           0          1243\n",
       "            1            70\n",
       "            2          1184\n",
       "            3          1320\n",
       "            4          1301\n",
       "            5           713\n",
       "dtype: int64"
      ]
     },
     "execution_count": 10,
     "metadata": {},
     "output_type": "execute_result"
    }
   ],
   "source": [
    "fmin_count = data.filter(['f_min<2kHz','cluster'], axis=1)\n",
    "fmin_count.value_counts(sort=False)"
   ]
  },
  {
   "cell_type": "code",
   "execution_count": 11,
   "metadata": {},
   "outputs": [
    {
     "data": {
      "text/plain": [
       "tweek_sign  cluster\n",
       "0           0           498\n",
       "            1          1700\n",
       "            2          3174\n",
       "            3          1750\n",
       "            4          2032\n",
       "            5          3245\n",
       "1           0           101\n",
       "            2            20\n",
       "            3            39\n",
       "            4            11\n",
       "            5             4\n",
       "2           0           118\n",
       "            2            10\n",
       "            3            10\n",
       "            4             3\n",
       "            5             1\n",
       "3           0           186\n",
       "            2            33\n",
       "            3            17\n",
       "            4             1\n",
       "            5             6\n",
       "4           0           529\n",
       "            2            30\n",
       "            3           109\n",
       "            4             8\n",
       "            5            12\n",
       "dtype: int64"
      ]
     },
     "execution_count": 11,
     "metadata": {},
     "output_type": "execute_result"
    }
   ],
   "source": [
    "sign_count = data.filter(['tweek_sign','cluster'], axis=1)\n",
    "sign_count.value_counts(sort=False)"
   ]
  },
  {
   "cell_type": "markdown",
   "metadata": {},
   "source": [
    "<H3>K means weak encoder 7 clusters<H3>"
   ]
  },
  {
   "cell_type": "code",
   "execution_count": 12,
   "metadata": {},
   "outputs": [
    {
     "data": {
      "text/html": [
       "<div>\n",
       "<style scoped>\n",
       "    .dataframe tbody tr th:only-of-type {\n",
       "        vertical-align: middle;\n",
       "    }\n",
       "\n",
       "    .dataframe tbody tr th {\n",
       "        vertical-align: top;\n",
       "    }\n",
       "\n",
       "    .dataframe thead th {\n",
       "        text-align: right;\n",
       "    }\n",
       "</style>\n",
       "<table border=\"1\" class=\"dataframe\">\n",
       "  <thead>\n",
       "    <tr style=\"text-align: right;\">\n",
       "      <th></th>\n",
       "      <th>image</th>\n",
       "      <th>tweek</th>\n",
       "      <th>f_min&lt;2kHz</th>\n",
       "      <th>tweek_sign</th>\n",
       "      <th>cluster</th>\n",
       "    </tr>\n",
       "  </thead>\n",
       "  <tbody>\n",
       "    <tr>\n",
       "      <th>0</th>\n",
       "      <td>ch2_20141130_000500_988_s122-S1.jpg</td>\n",
       "      <td>0</td>\n",
       "      <td>0</td>\n",
       "      <td>0</td>\n",
       "      <td>2</td>\n",
       "    </tr>\n",
       "    <tr>\n",
       "      <th>1</th>\n",
       "      <td>ch2_20141130_000500_988_s122-T1.jpg</td>\n",
       "      <td>1</td>\n",
       "      <td>1</td>\n",
       "      <td>4</td>\n",
       "      <td>6</td>\n",
       "    </tr>\n",
       "    <tr>\n",
       "      <th>2</th>\n",
       "      <td>ch2_20141130_000500_988_s122-S2.jpg</td>\n",
       "      <td>0</td>\n",
       "      <td>1</td>\n",
       "      <td>0</td>\n",
       "      <td>6</td>\n",
       "    </tr>\n",
       "    <tr>\n",
       "      <th>3</th>\n",
       "      <td>ch2_20141130_000500_988_s125-S1.jpg</td>\n",
       "      <td>0</td>\n",
       "      <td>1</td>\n",
       "      <td>0</td>\n",
       "      <td>3</td>\n",
       "    </tr>\n",
       "    <tr>\n",
       "      <th>4</th>\n",
       "      <td>ch2_20141130_000500_988_s125-S2.jpg</td>\n",
       "      <td>0</td>\n",
       "      <td>0</td>\n",
       "      <td>0</td>\n",
       "      <td>2</td>\n",
       "    </tr>\n",
       "    <tr>\n",
       "      <th>...</th>\n",
       "      <td>...</td>\n",
       "      <td>...</td>\n",
       "      <td>...</td>\n",
       "      <td>...</td>\n",
       "      <td>...</td>\n",
       "    </tr>\n",
       "    <tr>\n",
       "      <th>13642</th>\n",
       "      <td>ch2_20141130_235542_205_s9-S13.jpg</td>\n",
       "      <td>0</td>\n",
       "      <td>1</td>\n",
       "      <td>0</td>\n",
       "      <td>0</td>\n",
       "    </tr>\n",
       "    <tr>\n",
       "      <th>13643</th>\n",
       "      <td>ch2_20141130_235542_205_s9-S14.jpg</td>\n",
       "      <td>0</td>\n",
       "      <td>0</td>\n",
       "      <td>0</td>\n",
       "      <td>0</td>\n",
       "    </tr>\n",
       "    <tr>\n",
       "      <th>13644</th>\n",
       "      <td>ch2_20141130_235542_205_s9-S15.jpg</td>\n",
       "      <td>0</td>\n",
       "      <td>0</td>\n",
       "      <td>0</td>\n",
       "      <td>0</td>\n",
       "    </tr>\n",
       "    <tr>\n",
       "      <th>13645</th>\n",
       "      <td>ch2_20141130_235542_205_s9-S16.jpg</td>\n",
       "      <td>0</td>\n",
       "      <td>0</td>\n",
       "      <td>0</td>\n",
       "      <td>5</td>\n",
       "    </tr>\n",
       "    <tr>\n",
       "      <th>13646</th>\n",
       "      <td>ch2_20141130_235542_205_s95-S1.jpg</td>\n",
       "      <td>0</td>\n",
       "      <td>1</td>\n",
       "      <td>0</td>\n",
       "      <td>6</td>\n",
       "    </tr>\n",
       "  </tbody>\n",
       "</table>\n",
       "<p>13647 rows × 5 columns</p>\n",
       "</div>"
      ],
      "text/plain": [
       "                                     image  tweek  f_min<2kHz  tweek_sign  \\\n",
       "0      ch2_20141130_000500_988_s122-S1.jpg      0           0           0   \n",
       "1      ch2_20141130_000500_988_s122-T1.jpg      1           1           4   \n",
       "2      ch2_20141130_000500_988_s122-S2.jpg      0           1           0   \n",
       "3      ch2_20141130_000500_988_s125-S1.jpg      0           1           0   \n",
       "4      ch2_20141130_000500_988_s125-S2.jpg      0           0           0   \n",
       "...                                    ...    ...         ...         ...   \n",
       "13642   ch2_20141130_235542_205_s9-S13.jpg      0           1           0   \n",
       "13643   ch2_20141130_235542_205_s9-S14.jpg      0           0           0   \n",
       "13644   ch2_20141130_235542_205_s9-S15.jpg      0           0           0   \n",
       "13645   ch2_20141130_235542_205_s9-S16.jpg      0           0           0   \n",
       "13646   ch2_20141130_235542_205_s95-S1.jpg      0           1           0   \n",
       "\n",
       "       cluster  \n",
       "0            2  \n",
       "1            6  \n",
       "2            6  \n",
       "3            3  \n",
       "4            2  \n",
       "...        ...  \n",
       "13642        0  \n",
       "13643        0  \n",
       "13644        0  \n",
       "13645        5  \n",
       "13646        6  \n",
       "\n",
       "[13647 rows x 5 columns]"
      ]
     },
     "execution_count": 12,
     "metadata": {},
     "output_type": "execute_result"
    }
   ],
   "source": [
    "#load data\n",
    "data = pd.read_csv(\"cluster_csv/lowdim_K7_2014_11.csv\")\n",
    "data.drop(['org_img', 'event', 'date', 'second', 'milisecond'],axis='columns', inplace=True)\n",
    "data"
   ]
  },
  {
   "cell_type": "code",
   "execution_count": 13,
   "metadata": {},
   "outputs": [
    {
     "data": {
      "text/html": [
       "<div>\n",
       "<style scoped>\n",
       "    .dataframe tbody tr th:only-of-type {\n",
       "        vertical-align: middle;\n",
       "    }\n",
       "\n",
       "    .dataframe tbody tr th {\n",
       "        vertical-align: top;\n",
       "    }\n",
       "\n",
       "    .dataframe thead th {\n",
       "        text-align: right;\n",
       "    }\n",
       "</style>\n",
       "<table border=\"1\" class=\"dataframe\">\n",
       "  <thead>\n",
       "    <tr style=\"text-align: right;\">\n",
       "      <th></th>\n",
       "      <th>image</th>\n",
       "    </tr>\n",
       "    <tr>\n",
       "      <th>cluster</th>\n",
       "      <th></th>\n",
       "    </tr>\n",
       "  </thead>\n",
       "  <tbody>\n",
       "    <tr>\n",
       "      <th>0</th>\n",
       "      <td>1965</td>\n",
       "    </tr>\n",
       "    <tr>\n",
       "      <th>1</th>\n",
       "      <td>2008</td>\n",
       "    </tr>\n",
       "    <tr>\n",
       "      <th>2</th>\n",
       "      <td>1654</td>\n",
       "    </tr>\n",
       "    <tr>\n",
       "      <th>3</th>\n",
       "      <td>1366</td>\n",
       "    </tr>\n",
       "    <tr>\n",
       "      <th>4</th>\n",
       "      <td>2144</td>\n",
       "    </tr>\n",
       "    <tr>\n",
       "      <th>5</th>\n",
       "      <td>3101</td>\n",
       "    </tr>\n",
       "    <tr>\n",
       "      <th>6</th>\n",
       "      <td>1409</td>\n",
       "    </tr>\n",
       "  </tbody>\n",
       "</table>\n",
       "</div>"
      ],
      "text/plain": [
       "         image\n",
       "cluster       \n",
       "0         1965\n",
       "1         2008\n",
       "2         1654\n",
       "3         1366\n",
       "4         2144\n",
       "5         3101\n",
       "6         1409"
      ]
     },
     "execution_count": 13,
     "metadata": {},
     "output_type": "execute_result"
    }
   ],
   "source": [
    "#pocetnost imgs v clustroch\n",
    "cluster_count = data.filter(['image','cluster'], axis=1) \n",
    "cluster_count.groupby('cluster').count()"
   ]
  },
  {
   "cell_type": "markdown",
   "metadata": {},
   "source": [
    "<img src=\"cluster_img_cropped/lowdim_K7.png\">"
   ]
  },
  {
   "cell_type": "code",
   "execution_count": 15,
   "metadata": {},
   "outputs": [
    {
     "data": {
      "text/plain": [
       "tweek  cluster\n",
       "0      0          1938\n",
       "       1          1985\n",
       "       2          1654\n",
       "       3           457\n",
       "       4          2089\n",
       "       5          3058\n",
       "       6          1218\n",
       "1      0            27\n",
       "       1            23\n",
       "       3           909\n",
       "       4            55\n",
       "       5            43\n",
       "       6           191\n",
       "dtype: int64"
      ]
     },
     "execution_count": 15,
     "metadata": {},
     "output_type": "execute_result"
    }
   ],
   "source": [
    "#rozlozenie tweekov a sphericov v clustroch\n",
    "tweek_count = data.filter(['tweek','cluster'], axis=1)\n",
    "tweek_count.value_counts(sort=False)"
   ]
  },
  {
   "cell_type": "code",
   "execution_count": 16,
   "metadata": {},
   "outputs": [
    {
     "data": {
      "text/plain": [
       "f_min<2kHz  cluster\n",
       "0           0          1439\n",
       "            1           758\n",
       "            2          1592\n",
       "            3           179\n",
       "            4          1334\n",
       "            5          2263\n",
       "            6           251\n",
       "1           0           526\n",
       "            1          1250\n",
       "            2            62\n",
       "            3          1187\n",
       "            4           810\n",
       "            5           838\n",
       "            6          1158\n",
       "dtype: int64"
      ]
     },
     "execution_count": 16,
     "metadata": {},
     "output_type": "execute_result"
    }
   ],
   "source": [
    "fmin_count = data.filter(['f_min<2kHz','cluster'], axis=1)\n",
    "fmin_count.value_counts(sort=False)"
   ]
  },
  {
   "cell_type": "code",
   "execution_count": 17,
   "metadata": {},
   "outputs": [
    {
     "data": {
      "text/plain": [
       "tweek_sign  cluster\n",
       "0           0          1938\n",
       "            1          1985\n",
       "            2          1654\n",
       "            3           457\n",
       "            4          2089\n",
       "            5          3058\n",
       "            6          1218\n",
       "1           0             6\n",
       "            1            10\n",
       "            3           101\n",
       "            4            12\n",
       "            5            10\n",
       "            6            36\n",
       "2           0             1\n",
       "            1             4\n",
       "            3           111\n",
       "            4             9\n",
       "            5             2\n",
       "            6            15\n",
       "3           0             3\n",
       "            1             1\n",
       "            3           185\n",
       "            4            16\n",
       "            5            16\n",
       "            6            22\n",
       "4           0            17\n",
       "            1             8\n",
       "            3           512\n",
       "            4            18\n",
       "            5            15\n",
       "            6           118\n",
       "dtype: int64"
      ]
     },
     "execution_count": 17,
     "metadata": {},
     "output_type": "execute_result"
    }
   ],
   "source": [
    "sign_count = data.filter(['tweek_sign','cluster'], axis=1)\n",
    "sign_count.value_counts(sort=False)"
   ]
  },
  {
   "cell_type": "code",
   "execution_count": null,
   "metadata": {},
   "outputs": [],
   "source": []
  }
 ],
 "metadata": {
  "kernelspec": {
   "display_name": "Python 3",
   "language": "python",
   "name": "python3"
  },
  "language_info": {
   "codemirror_mode": {
    "name": "ipython",
    "version": 3
   },
   "file_extension": ".py",
   "mimetype": "text/x-python",
   "name": "python",
   "nbconvert_exporter": "python",
   "pygments_lexer": "ipython3",
   "version": "3.8.6"
  }
 },
 "nbformat": 4,
 "nbformat_minor": 4
}
