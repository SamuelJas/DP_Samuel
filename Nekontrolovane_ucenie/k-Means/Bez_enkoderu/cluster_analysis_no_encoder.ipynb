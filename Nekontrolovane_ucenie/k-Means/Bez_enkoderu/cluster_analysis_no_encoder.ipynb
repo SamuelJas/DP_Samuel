{
 "cells": [
  {
   "cell_type": "markdown",
   "metadata": {},
   "source": [
    "## Python notebook \n",
    "V nasledujúcom notebooku sú popísané Python metódy použité pre analýzu zhlukov k-Means. Obsah notebooku je nasledujúci:\n",
    "1. Import potrebných knižníc\n",
    "2. Analýza zhlukov"
   ]
  },
  {
   "cell_type": "markdown",
   "metadata": {},
   "source": [
    "# 1. Import potrebných knižníc"
   ]
  },
  {
   "cell_type": "code",
   "execution_count": 1,
   "metadata": {},
   "outputs": [],
   "source": [
    "import pandas as pd\n",
    "import numpy as np"
   ]
  },
  {
   "cell_type": "markdown",
   "metadata": {},
   "source": [
    "# 2. Analýza zhlukov\n",
    "Analyzujeme zhlukovanie do 5, 6 a 7 zhlukov. Na začiatku načítame csv súbor pre konkrétne zhlukovanie a ten ďalej analyzujeme. Sledujeme ako zhluky vyzerajú vizuálne a aké sú početnosti jednotlivých atribútov obsiahnutých v csv súbore."
   ]
  },
  {
   "cell_type": "markdown",
   "metadata": {},
   "source": [
    "<H3>K means no encoder 5 clusters<H3>"
   ]
  },
  {
   "cell_type": "code",
   "execution_count": 2,
   "metadata": {},
   "outputs": [
    {
     "data": {
      "text/html": [
       "<div>\n",
       "<style scoped>\n",
       "    .dataframe tbody tr th:only-of-type {\n",
       "        vertical-align: middle;\n",
       "    }\n",
       "\n",
       "    .dataframe tbody tr th {\n",
       "        vertical-align: top;\n",
       "    }\n",
       "\n",
       "    .dataframe thead th {\n",
       "        text-align: right;\n",
       "    }\n",
       "</style>\n",
       "<table border=\"1\" class=\"dataframe\">\n",
       "  <thead>\n",
       "    <tr style=\"text-align: right;\">\n",
       "      <th></th>\n",
       "      <th>image</th>\n",
       "      <th>tweek</th>\n",
       "      <th>f_min&lt;2kHz</th>\n",
       "      <th>tweek_sign</th>\n",
       "      <th>cluster</th>\n",
       "    </tr>\n",
       "  </thead>\n",
       "  <tbody>\n",
       "    <tr>\n",
       "      <th>0</th>\n",
       "      <td>ch2_20141130_000500_988_s122-S1.jpg</td>\n",
       "      <td>0</td>\n",
       "      <td>0</td>\n",
       "      <td>0</td>\n",
       "      <td>3</td>\n",
       "    </tr>\n",
       "    <tr>\n",
       "      <th>1</th>\n",
       "      <td>ch2_20141130_000500_988_s122-T1.jpg</td>\n",
       "      <td>1</td>\n",
       "      <td>1</td>\n",
       "      <td>4</td>\n",
       "      <td>4</td>\n",
       "    </tr>\n",
       "    <tr>\n",
       "      <th>2</th>\n",
       "      <td>ch2_20141130_000500_988_s122-S2.jpg</td>\n",
       "      <td>0</td>\n",
       "      <td>1</td>\n",
       "      <td>0</td>\n",
       "      <td>4</td>\n",
       "    </tr>\n",
       "    <tr>\n",
       "      <th>3</th>\n",
       "      <td>ch2_20141130_000500_988_s125-S1.jpg</td>\n",
       "      <td>0</td>\n",
       "      <td>1</td>\n",
       "      <td>0</td>\n",
       "      <td>0</td>\n",
       "    </tr>\n",
       "    <tr>\n",
       "      <th>4</th>\n",
       "      <td>ch2_20141130_000500_988_s125-S2.jpg</td>\n",
       "      <td>0</td>\n",
       "      <td>0</td>\n",
       "      <td>0</td>\n",
       "      <td>3</td>\n",
       "    </tr>\n",
       "    <tr>\n",
       "      <th>...</th>\n",
       "      <td>...</td>\n",
       "      <td>...</td>\n",
       "      <td>...</td>\n",
       "      <td>...</td>\n",
       "      <td>...</td>\n",
       "    </tr>\n",
       "    <tr>\n",
       "      <th>13642</th>\n",
       "      <td>ch2_20141130_235542_205_s9-S13.jpg</td>\n",
       "      <td>0</td>\n",
       "      <td>1</td>\n",
       "      <td>0</td>\n",
       "      <td>2</td>\n",
       "    </tr>\n",
       "    <tr>\n",
       "      <th>13643</th>\n",
       "      <td>ch2_20141130_235542_205_s9-S14.jpg</td>\n",
       "      <td>0</td>\n",
       "      <td>0</td>\n",
       "      <td>0</td>\n",
       "      <td>2</td>\n",
       "    </tr>\n",
       "    <tr>\n",
       "      <th>13644</th>\n",
       "      <td>ch2_20141130_235542_205_s9-S15.jpg</td>\n",
       "      <td>0</td>\n",
       "      <td>0</td>\n",
       "      <td>0</td>\n",
       "      <td>2</td>\n",
       "    </tr>\n",
       "    <tr>\n",
       "      <th>13645</th>\n",
       "      <td>ch2_20141130_235542_205_s9-S16.jpg</td>\n",
       "      <td>0</td>\n",
       "      <td>0</td>\n",
       "      <td>0</td>\n",
       "      <td>2</td>\n",
       "    </tr>\n",
       "    <tr>\n",
       "      <th>13646</th>\n",
       "      <td>ch2_20141130_235542_205_s95-S1.jpg</td>\n",
       "      <td>0</td>\n",
       "      <td>1</td>\n",
       "      <td>0</td>\n",
       "      <td>4</td>\n",
       "    </tr>\n",
       "  </tbody>\n",
       "</table>\n",
       "<p>13647 rows × 5 columns</p>\n",
       "</div>"
      ],
      "text/plain": [
       "                                     image  tweek  f_min<2kHz  tweek_sign  \\\n",
       "0      ch2_20141130_000500_988_s122-S1.jpg      0           0           0   \n",
       "1      ch2_20141130_000500_988_s122-T1.jpg      1           1           4   \n",
       "2      ch2_20141130_000500_988_s122-S2.jpg      0           1           0   \n",
       "3      ch2_20141130_000500_988_s125-S1.jpg      0           1           0   \n",
       "4      ch2_20141130_000500_988_s125-S2.jpg      0           0           0   \n",
       "...                                    ...    ...         ...         ...   \n",
       "13642   ch2_20141130_235542_205_s9-S13.jpg      0           1           0   \n",
       "13643   ch2_20141130_235542_205_s9-S14.jpg      0           0           0   \n",
       "13644   ch2_20141130_235542_205_s9-S15.jpg      0           0           0   \n",
       "13645   ch2_20141130_235542_205_s9-S16.jpg      0           0           0   \n",
       "13646   ch2_20141130_235542_205_s95-S1.jpg      0           1           0   \n",
       "\n",
       "       cluster  \n",
       "0            3  \n",
       "1            4  \n",
       "2            4  \n",
       "3            0  \n",
       "4            3  \n",
       "...        ...  \n",
       "13642        2  \n",
       "13643        2  \n",
       "13644        2  \n",
       "13645        2  \n",
       "13646        4  \n",
       "\n",
       "[13647 rows x 5 columns]"
      ]
     },
     "execution_count": 2,
     "metadata": {},
     "output_type": "execute_result"
    }
   ],
   "source": [
    "#load data\n",
    "data = pd.read_csv(\"cluster_csv/noenc_K5_2014_11.csv\")\n",
    "data.drop(['org_img', 'event', 'date', 'second', 'milisecond'],axis='columns', inplace=True)\n",
    "data"
   ]
  },
  {
   "cell_type": "code",
   "execution_count": 3,
   "metadata": {},
   "outputs": [
    {
     "data": {
      "text/html": [
       "<div>\n",
       "<style scoped>\n",
       "    .dataframe tbody tr th:only-of-type {\n",
       "        vertical-align: middle;\n",
       "    }\n",
       "\n",
       "    .dataframe tbody tr th {\n",
       "        vertical-align: top;\n",
       "    }\n",
       "\n",
       "    .dataframe thead th {\n",
       "        text-align: right;\n",
       "    }\n",
       "</style>\n",
       "<table border=\"1\" class=\"dataframe\">\n",
       "  <thead>\n",
       "    <tr style=\"text-align: right;\">\n",
       "      <th></th>\n",
       "      <th>image</th>\n",
       "    </tr>\n",
       "    <tr>\n",
       "      <th>cluster</th>\n",
       "      <th></th>\n",
       "    </tr>\n",
       "  </thead>\n",
       "  <tbody>\n",
       "    <tr>\n",
       "      <th>0</th>\n",
       "      <td>3616</td>\n",
       "    </tr>\n",
       "    <tr>\n",
       "      <th>1</th>\n",
       "      <td>2642</td>\n",
       "    </tr>\n",
       "    <tr>\n",
       "      <th>2</th>\n",
       "      <td>3640</td>\n",
       "    </tr>\n",
       "    <tr>\n",
       "      <th>3</th>\n",
       "      <td>1684</td>\n",
       "    </tr>\n",
       "    <tr>\n",
       "      <th>4</th>\n",
       "      <td>2065</td>\n",
       "    </tr>\n",
       "  </tbody>\n",
       "</table>\n",
       "</div>"
      ],
      "text/plain": [
       "         image\n",
       "cluster       \n",
       "0         3616\n",
       "1         2642\n",
       "2         3640\n",
       "3         1684\n",
       "4         2065"
      ]
     },
     "execution_count": 3,
     "metadata": {},
     "output_type": "execute_result"
    }
   ],
   "source": [
    "#pocetnost imgs v clustroch\n",
    "cluster_count = data.filter(['image','cluster'], axis=1) \n",
    "cluster_count.groupby('cluster').count()"
   ]
  },
  {
   "cell_type": "markdown",
   "metadata": {},
   "source": [
    "<img src=\"cluster_img_cropped/no_enc_K5.png\">"
   ]
  },
  {
   "cell_type": "code",
   "execution_count": 4,
   "metadata": {},
   "outputs": [
    {
     "data": {
      "text/plain": [
       "tweek  cluster\n",
       "0      0          3493\n",
       "       1          1824\n",
       "       2          3587\n",
       "       3          1684\n",
       "       4          1811\n",
       "1      0           123\n",
       "       1           818\n",
       "       2            53\n",
       "       4           254\n",
       "dtype: int64"
      ]
     },
     "execution_count": 4,
     "metadata": {},
     "output_type": "execute_result"
    }
   ],
   "source": [
    "#rozlozenie tweekov a sphericov v clustroch\n",
    "tweek_count = data.filter(['tweek','cluster'], axis=1)\n",
    "tweek_count.value_counts(sort=False)"
   ]
  },
  {
   "cell_type": "code",
   "execution_count": 5,
   "metadata": {},
   "outputs": [
    {
     "data": {
      "text/plain": [
       "f_min<2kHz  cluster\n",
       "0           0          2257\n",
       "            1           520\n",
       "            2          2792\n",
       "            3          1614\n",
       "            4           633\n",
       "1           0          1359\n",
       "            1          2122\n",
       "            2           848\n",
       "            3            70\n",
       "            4          1432\n",
       "dtype: int64"
      ]
     },
     "execution_count": 5,
     "metadata": {},
     "output_type": "execute_result"
    }
   ],
   "source": [
    "fmin_count = data.filter(['f_min<2kHz','cluster'], axis=1)\n",
    "fmin_count.value_counts(sort=False)"
   ]
  },
  {
   "cell_type": "code",
   "execution_count": 6,
   "metadata": {},
   "outputs": [
    {
     "data": {
      "text/plain": [
       "tweek_sign  cluster\n",
       "0           0          3493\n",
       "            1          1824\n",
       "            2          3587\n",
       "            3          1684\n",
       "            4          1811\n",
       "1           0            28\n",
       "            1           100\n",
       "            2             6\n",
       "            4            41\n",
       "2           0            14\n",
       "            1           109\n",
       "            2             3\n",
       "            4            16\n",
       "3           0            38\n",
       "            1           166\n",
       "            2            16\n",
       "            4            23\n",
       "4           0            43\n",
       "            1           443\n",
       "            2            28\n",
       "            4           174\n",
       "dtype: int64"
      ]
     },
     "execution_count": 6,
     "metadata": {},
     "output_type": "execute_result"
    }
   ],
   "source": [
    "sign_count = data.filter(['tweek_sign','cluster'], axis=1)\n",
    "sign_count.value_counts(sort=False)"
   ]
  },
  {
   "cell_type": "markdown",
   "metadata": {},
   "source": [
    "<H3>K means no encoder 6 clusters<H3>"
   ]
  },
  {
   "cell_type": "code",
   "execution_count": 7,
   "metadata": {},
   "outputs": [
    {
     "data": {
      "text/html": [
       "<div>\n",
       "<style scoped>\n",
       "    .dataframe tbody tr th:only-of-type {\n",
       "        vertical-align: middle;\n",
       "    }\n",
       "\n",
       "    .dataframe tbody tr th {\n",
       "        vertical-align: top;\n",
       "    }\n",
       "\n",
       "    .dataframe thead th {\n",
       "        text-align: right;\n",
       "    }\n",
       "</style>\n",
       "<table border=\"1\" class=\"dataframe\">\n",
       "  <thead>\n",
       "    <tr style=\"text-align: right;\">\n",
       "      <th></th>\n",
       "      <th>image</th>\n",
       "      <th>tweek</th>\n",
       "      <th>f_min&lt;2kHz</th>\n",
       "      <th>tweek_sign</th>\n",
       "      <th>cluster</th>\n",
       "    </tr>\n",
       "  </thead>\n",
       "  <tbody>\n",
       "    <tr>\n",
       "      <th>0</th>\n",
       "      <td>ch2_20141130_000500_988_s122-S1.jpg</td>\n",
       "      <td>0</td>\n",
       "      <td>0</td>\n",
       "      <td>0</td>\n",
       "      <td>0</td>\n",
       "    </tr>\n",
       "    <tr>\n",
       "      <th>1</th>\n",
       "      <td>ch2_20141130_000500_988_s122-T1.jpg</td>\n",
       "      <td>1</td>\n",
       "      <td>1</td>\n",
       "      <td>4</td>\n",
       "      <td>3</td>\n",
       "    </tr>\n",
       "    <tr>\n",
       "      <th>2</th>\n",
       "      <td>ch2_20141130_000500_988_s122-S2.jpg</td>\n",
       "      <td>0</td>\n",
       "      <td>1</td>\n",
       "      <td>0</td>\n",
       "      <td>3</td>\n",
       "    </tr>\n",
       "    <tr>\n",
       "      <th>3</th>\n",
       "      <td>ch2_20141130_000500_988_s125-S1.jpg</td>\n",
       "      <td>0</td>\n",
       "      <td>1</td>\n",
       "      <td>0</td>\n",
       "      <td>1</td>\n",
       "    </tr>\n",
       "    <tr>\n",
       "      <th>4</th>\n",
       "      <td>ch2_20141130_000500_988_s125-S2.jpg</td>\n",
       "      <td>0</td>\n",
       "      <td>0</td>\n",
       "      <td>0</td>\n",
       "      <td>0</td>\n",
       "    </tr>\n",
       "    <tr>\n",
       "      <th>...</th>\n",
       "      <td>...</td>\n",
       "      <td>...</td>\n",
       "      <td>...</td>\n",
       "      <td>...</td>\n",
       "      <td>...</td>\n",
       "    </tr>\n",
       "    <tr>\n",
       "      <th>13642</th>\n",
       "      <td>ch2_20141130_235542_205_s9-S13.jpg</td>\n",
       "      <td>0</td>\n",
       "      <td>1</td>\n",
       "      <td>0</td>\n",
       "      <td>4</td>\n",
       "    </tr>\n",
       "    <tr>\n",
       "      <th>13643</th>\n",
       "      <td>ch2_20141130_235542_205_s9-S14.jpg</td>\n",
       "      <td>0</td>\n",
       "      <td>0</td>\n",
       "      <td>0</td>\n",
       "      <td>4</td>\n",
       "    </tr>\n",
       "    <tr>\n",
       "      <th>13644</th>\n",
       "      <td>ch2_20141130_235542_205_s9-S15.jpg</td>\n",
       "      <td>0</td>\n",
       "      <td>0</td>\n",
       "      <td>0</td>\n",
       "      <td>4</td>\n",
       "    </tr>\n",
       "    <tr>\n",
       "      <th>13645</th>\n",
       "      <td>ch2_20141130_235542_205_s9-S16.jpg</td>\n",
       "      <td>0</td>\n",
       "      <td>0</td>\n",
       "      <td>0</td>\n",
       "      <td>4</td>\n",
       "    </tr>\n",
       "    <tr>\n",
       "      <th>13646</th>\n",
       "      <td>ch2_20141130_235542_205_s95-S1.jpg</td>\n",
       "      <td>0</td>\n",
       "      <td>1</td>\n",
       "      <td>0</td>\n",
       "      <td>3</td>\n",
       "    </tr>\n",
       "  </tbody>\n",
       "</table>\n",
       "<p>13647 rows × 5 columns</p>\n",
       "</div>"
      ],
      "text/plain": [
       "                                     image  tweek  f_min<2kHz  tweek_sign  \\\n",
       "0      ch2_20141130_000500_988_s122-S1.jpg      0           0           0   \n",
       "1      ch2_20141130_000500_988_s122-T1.jpg      1           1           4   \n",
       "2      ch2_20141130_000500_988_s122-S2.jpg      0           1           0   \n",
       "3      ch2_20141130_000500_988_s125-S1.jpg      0           1           0   \n",
       "4      ch2_20141130_000500_988_s125-S2.jpg      0           0           0   \n",
       "...                                    ...    ...         ...         ...   \n",
       "13642   ch2_20141130_235542_205_s9-S13.jpg      0           1           0   \n",
       "13643   ch2_20141130_235542_205_s9-S14.jpg      0           0           0   \n",
       "13644   ch2_20141130_235542_205_s9-S15.jpg      0           0           0   \n",
       "13645   ch2_20141130_235542_205_s9-S16.jpg      0           0           0   \n",
       "13646   ch2_20141130_235542_205_s95-S1.jpg      0           1           0   \n",
       "\n",
       "       cluster  \n",
       "0            0  \n",
       "1            3  \n",
       "2            3  \n",
       "3            1  \n",
       "4            0  \n",
       "...        ...  \n",
       "13642        4  \n",
       "13643        4  \n",
       "13644        4  \n",
       "13645        4  \n",
       "13646        3  \n",
       "\n",
       "[13647 rows x 5 columns]"
      ]
     },
     "execution_count": 7,
     "metadata": {},
     "output_type": "execute_result"
    }
   ],
   "source": [
    "#load data\n",
    "data = pd.read_csv(\"cluster_csv/noenc_K6_2014_11.csv\")\n",
    "data.drop(['org_img', 'event', 'date', 'second', 'milisecond'],axis='columns', inplace=True)\n",
    "data"
   ]
  },
  {
   "cell_type": "code",
   "execution_count": 8,
   "metadata": {},
   "outputs": [
    {
     "data": {
      "text/html": [
       "<div>\n",
       "<style scoped>\n",
       "    .dataframe tbody tr th:only-of-type {\n",
       "        vertical-align: middle;\n",
       "    }\n",
       "\n",
       "    .dataframe tbody tr th {\n",
       "        vertical-align: top;\n",
       "    }\n",
       "\n",
       "    .dataframe thead th {\n",
       "        text-align: right;\n",
       "    }\n",
       "</style>\n",
       "<table border=\"1\" class=\"dataframe\">\n",
       "  <thead>\n",
       "    <tr style=\"text-align: right;\">\n",
       "      <th></th>\n",
       "      <th>image</th>\n",
       "    </tr>\n",
       "    <tr>\n",
       "      <th>cluster</th>\n",
       "      <th></th>\n",
       "    </tr>\n",
       "  </thead>\n",
       "  <tbody>\n",
       "    <tr>\n",
       "      <th>0</th>\n",
       "      <td>1642</td>\n",
       "    </tr>\n",
       "    <tr>\n",
       "      <th>1</th>\n",
       "      <td>3283</td>\n",
       "    </tr>\n",
       "    <tr>\n",
       "      <th>2</th>\n",
       "      <td>1935</td>\n",
       "    </tr>\n",
       "    <tr>\n",
       "      <th>3</th>\n",
       "      <td>1908</td>\n",
       "    </tr>\n",
       "    <tr>\n",
       "      <th>4</th>\n",
       "      <td>3457</td>\n",
       "    </tr>\n",
       "    <tr>\n",
       "      <th>5</th>\n",
       "      <td>1422</td>\n",
       "    </tr>\n",
       "  </tbody>\n",
       "</table>\n",
       "</div>"
      ],
      "text/plain": [
       "         image\n",
       "cluster       \n",
       "0         1642\n",
       "1         3283\n",
       "2         1935\n",
       "3         1908\n",
       "4         3457\n",
       "5         1422"
      ]
     },
     "execution_count": 8,
     "metadata": {},
     "output_type": "execute_result"
    }
   ],
   "source": [
    "#pocetnost imgs v clustroch\n",
    "cluster_count = data.filter(['image','cluster'], axis=1) \n",
    "cluster_count.groupby('cluster').count()"
   ]
  },
  {
   "cell_type": "markdown",
   "metadata": {},
   "source": [
    "<img src=\"cluster_img_cropped/no_enc_K6.png\">"
   ]
  },
  {
   "cell_type": "code",
   "execution_count": 9,
   "metadata": {},
   "outputs": [
    {
     "data": {
      "text/plain": [
       "tweek  cluster\n",
       "0      0          1642\n",
       "       1          3186\n",
       "       2          1914\n",
       "       3          1710\n",
       "       4          3424\n",
       "       5           523\n",
       "1      1            97\n",
       "       2            21\n",
       "       3           198\n",
       "       4            33\n",
       "       5           899\n",
       "dtype: int64"
      ]
     },
     "execution_count": 9,
     "metadata": {},
     "output_type": "execute_result"
    }
   ],
   "source": [
    "#rozlozenie tweekov a sphericov v clustroch\n",
    "tweek_count = data.filter(['tweek','cluster'], axis=1)\n",
    "tweek_count.value_counts(sort=False)"
   ]
  },
  {
   "cell_type": "code",
   "execution_count": 10,
   "metadata": {},
   "outputs": [
    {
     "data": {
      "text/plain": [
       "f_min<2kHz  cluster\n",
       "0           0          1578\n",
       "            1          2088\n",
       "            2           756\n",
       "            3           560\n",
       "            4          2659\n",
       "            5           175\n",
       "1           0            64\n",
       "            1          1195\n",
       "            2          1179\n",
       "            3          1348\n",
       "            4           798\n",
       "            5          1247\n",
       "dtype: int64"
      ]
     },
     "execution_count": 10,
     "metadata": {},
     "output_type": "execute_result"
    }
   ],
   "source": [
    "fmin_count = data.filter(['f_min<2kHz','cluster'], axis=1)\n",
    "fmin_count.value_counts(sort=False)"
   ]
  },
  {
   "cell_type": "code",
   "execution_count": 11,
   "metadata": {},
   "outputs": [
    {
     "data": {
      "text/plain": [
       "tweek_sign  cluster\n",
       "0           0          1642\n",
       "            1          3186\n",
       "            2          1914\n",
       "            3          1710\n",
       "            4          3424\n",
       "            5           523\n",
       "1           1            22\n",
       "            2             9\n",
       "            3            42\n",
       "            4             4\n",
       "            5            98\n",
       "2           1            11\n",
       "            2             3\n",
       "            3            12\n",
       "            4             1\n",
       "            5           115\n",
       "3           1            35\n",
       "            3            21\n",
       "            4            10\n",
       "            5           177\n",
       "4           1            29\n",
       "            2             9\n",
       "            3           123\n",
       "            4            18\n",
       "            5           509\n",
       "dtype: int64"
      ]
     },
     "execution_count": 11,
     "metadata": {},
     "output_type": "execute_result"
    }
   ],
   "source": [
    "sign_count = data.filter(['tweek_sign','cluster'], axis=1)\n",
    "sign_count.value_counts(sort=False)"
   ]
  },
  {
   "cell_type": "markdown",
   "metadata": {},
   "source": [
    "<H3>K means no encoder 7 clusters<H3>"
   ]
  },
  {
   "cell_type": "code",
   "execution_count": 12,
   "metadata": {},
   "outputs": [
    {
     "data": {
      "text/html": [
       "<div>\n",
       "<style scoped>\n",
       "    .dataframe tbody tr th:only-of-type {\n",
       "        vertical-align: middle;\n",
       "    }\n",
       "\n",
       "    .dataframe tbody tr th {\n",
       "        vertical-align: top;\n",
       "    }\n",
       "\n",
       "    .dataframe thead th {\n",
       "        text-align: right;\n",
       "    }\n",
       "</style>\n",
       "<table border=\"1\" class=\"dataframe\">\n",
       "  <thead>\n",
       "    <tr style=\"text-align: right;\">\n",
       "      <th></th>\n",
       "      <th>image</th>\n",
       "      <th>tweek</th>\n",
       "      <th>f_min&lt;2kHz</th>\n",
       "      <th>tweek_sign</th>\n",
       "      <th>cluster</th>\n",
       "    </tr>\n",
       "  </thead>\n",
       "  <tbody>\n",
       "    <tr>\n",
       "      <th>0</th>\n",
       "      <td>ch2_20141130_000500_988_s122-S1.jpg</td>\n",
       "      <td>0</td>\n",
       "      <td>0</td>\n",
       "      <td>0</td>\n",
       "      <td>1</td>\n",
       "    </tr>\n",
       "    <tr>\n",
       "      <th>1</th>\n",
       "      <td>ch2_20141130_000500_988_s122-T1.jpg</td>\n",
       "      <td>1</td>\n",
       "      <td>1</td>\n",
       "      <td>4</td>\n",
       "      <td>6</td>\n",
       "    </tr>\n",
       "    <tr>\n",
       "      <th>2</th>\n",
       "      <td>ch2_20141130_000500_988_s122-S2.jpg</td>\n",
       "      <td>0</td>\n",
       "      <td>1</td>\n",
       "      <td>0</td>\n",
       "      <td>6</td>\n",
       "    </tr>\n",
       "    <tr>\n",
       "      <th>3</th>\n",
       "      <td>ch2_20141130_000500_988_s125-S1.jpg</td>\n",
       "      <td>0</td>\n",
       "      <td>1</td>\n",
       "      <td>0</td>\n",
       "      <td>4</td>\n",
       "    </tr>\n",
       "    <tr>\n",
       "      <th>4</th>\n",
       "      <td>ch2_20141130_000500_988_s125-S2.jpg</td>\n",
       "      <td>0</td>\n",
       "      <td>0</td>\n",
       "      <td>0</td>\n",
       "      <td>5</td>\n",
       "    </tr>\n",
       "    <tr>\n",
       "      <th>...</th>\n",
       "      <td>...</td>\n",
       "      <td>...</td>\n",
       "      <td>...</td>\n",
       "      <td>...</td>\n",
       "      <td>...</td>\n",
       "    </tr>\n",
       "    <tr>\n",
       "      <th>13642</th>\n",
       "      <td>ch2_20141130_235542_205_s9-S13.jpg</td>\n",
       "      <td>0</td>\n",
       "      <td>1</td>\n",
       "      <td>0</td>\n",
       "      <td>0</td>\n",
       "    </tr>\n",
       "    <tr>\n",
       "      <th>13643</th>\n",
       "      <td>ch2_20141130_235542_205_s9-S14.jpg</td>\n",
       "      <td>0</td>\n",
       "      <td>0</td>\n",
       "      <td>0</td>\n",
       "      <td>0</td>\n",
       "    </tr>\n",
       "    <tr>\n",
       "      <th>13644</th>\n",
       "      <td>ch2_20141130_235542_205_s9-S15.jpg</td>\n",
       "      <td>0</td>\n",
       "      <td>0</td>\n",
       "      <td>0</td>\n",
       "      <td>0</td>\n",
       "    </tr>\n",
       "    <tr>\n",
       "      <th>13645</th>\n",
       "      <td>ch2_20141130_235542_205_s9-S16.jpg</td>\n",
       "      <td>0</td>\n",
       "      <td>0</td>\n",
       "      <td>0</td>\n",
       "      <td>4</td>\n",
       "    </tr>\n",
       "    <tr>\n",
       "      <th>13646</th>\n",
       "      <td>ch2_20141130_235542_205_s95-S1.jpg</td>\n",
       "      <td>0</td>\n",
       "      <td>1</td>\n",
       "      <td>0</td>\n",
       "      <td>6</td>\n",
       "    </tr>\n",
       "  </tbody>\n",
       "</table>\n",
       "<p>13647 rows × 5 columns</p>\n",
       "</div>"
      ],
      "text/plain": [
       "                                     image  tweek  f_min<2kHz  tweek_sign  \\\n",
       "0      ch2_20141130_000500_988_s122-S1.jpg      0           0           0   \n",
       "1      ch2_20141130_000500_988_s122-T1.jpg      1           1           4   \n",
       "2      ch2_20141130_000500_988_s122-S2.jpg      0           1           0   \n",
       "3      ch2_20141130_000500_988_s125-S1.jpg      0           1           0   \n",
       "4      ch2_20141130_000500_988_s125-S2.jpg      0           0           0   \n",
       "...                                    ...    ...         ...         ...   \n",
       "13642   ch2_20141130_235542_205_s9-S13.jpg      0           1           0   \n",
       "13643   ch2_20141130_235542_205_s9-S14.jpg      0           0           0   \n",
       "13644   ch2_20141130_235542_205_s9-S15.jpg      0           0           0   \n",
       "13645   ch2_20141130_235542_205_s9-S16.jpg      0           0           0   \n",
       "13646   ch2_20141130_235542_205_s95-S1.jpg      0           1           0   \n",
       "\n",
       "       cluster  \n",
       "0            1  \n",
       "1            6  \n",
       "2            6  \n",
       "3            4  \n",
       "4            5  \n",
       "...        ...  \n",
       "13642        0  \n",
       "13643        0  \n",
       "13644        0  \n",
       "13645        4  \n",
       "13646        6  \n",
       "\n",
       "[13647 rows x 5 columns]"
      ]
     },
     "execution_count": 12,
     "metadata": {},
     "output_type": "execute_result"
    }
   ],
   "source": [
    "#load data\n",
    "data = pd.read_csv(\"cluster_csv/noenc_K7_2014_11.csv\")\n",
    "data.drop(['org_img', 'event', 'date', 'second', 'milisecond'],axis='columns', inplace=True)\n",
    "data"
   ]
  },
  {
   "cell_type": "code",
   "execution_count": 13,
   "metadata": {},
   "outputs": [
    {
     "data": {
      "text/html": [
       "<div>\n",
       "<style scoped>\n",
       "    .dataframe tbody tr th:only-of-type {\n",
       "        vertical-align: middle;\n",
       "    }\n",
       "\n",
       "    .dataframe tbody tr th {\n",
       "        vertical-align: top;\n",
       "    }\n",
       "\n",
       "    .dataframe thead th {\n",
       "        text-align: right;\n",
       "    }\n",
       "</style>\n",
       "<table border=\"1\" class=\"dataframe\">\n",
       "  <thead>\n",
       "    <tr style=\"text-align: right;\">\n",
       "      <th></th>\n",
       "      <th>image</th>\n",
       "    </tr>\n",
       "    <tr>\n",
       "      <th>cluster</th>\n",
       "      <th></th>\n",
       "    </tr>\n",
       "  </thead>\n",
       "  <tbody>\n",
       "    <tr>\n",
       "      <th>0</th>\n",
       "      <td>2049</td>\n",
       "    </tr>\n",
       "    <tr>\n",
       "      <th>1</th>\n",
       "      <td>1601</td>\n",
       "    </tr>\n",
       "    <tr>\n",
       "      <th>2</th>\n",
       "      <td>1366</td>\n",
       "    </tr>\n",
       "    <tr>\n",
       "      <th>3</th>\n",
       "      <td>1881</td>\n",
       "    </tr>\n",
       "    <tr>\n",
       "      <th>4</th>\n",
       "      <td>3187</td>\n",
       "    </tr>\n",
       "    <tr>\n",
       "      <th>5</th>\n",
       "      <td>2129</td>\n",
       "    </tr>\n",
       "    <tr>\n",
       "      <th>6</th>\n",
       "      <td>1434</td>\n",
       "    </tr>\n",
       "  </tbody>\n",
       "</table>\n",
       "</div>"
      ],
      "text/plain": [
       "         image\n",
       "cluster       \n",
       "0         2049\n",
       "1         1601\n",
       "2         1366\n",
       "3         1881\n",
       "4         3187\n",
       "5         2129\n",
       "6         1434"
      ]
     },
     "execution_count": 13,
     "metadata": {},
     "output_type": "execute_result"
    }
   ],
   "source": [
    "#pocetnost imgs v clustroch\n",
    "cluster_count = data.filter(['image','cluster'], axis=1) \n",
    "cluster_count.groupby('cluster').count()"
   ]
  },
  {
   "cell_type": "markdown",
   "metadata": {},
   "source": [
    "<img src=\"cluster_img_cropped/no_enc_K7.png\">"
   ]
  },
  {
   "cell_type": "code",
   "execution_count": 14,
   "metadata": {},
   "outputs": [
    {
     "data": {
      "text/plain": [
       "tweek  cluster\n",
       "0      0          2024\n",
       "       1          1601\n",
       "       2           486\n",
       "       3          1861\n",
       "       4          3120\n",
       "       5          2070\n",
       "       6          1237\n",
       "1      0            25\n",
       "       2           880\n",
       "       3            20\n",
       "       4            67\n",
       "       5            59\n",
       "       6           197\n",
       "dtype: int64"
      ]
     },
     "execution_count": 14,
     "metadata": {},
     "output_type": "execute_result"
    }
   ],
   "source": [
    "#rozlozenie tweekov a sphericov v clustroch\n",
    "tweek_count = data.filter(['tweek','cluster'], axis=1)\n",
    "tweek_count.value_counts(sort=False)"
   ]
  },
  {
   "cell_type": "code",
   "execution_count": 15,
   "metadata": {},
   "outputs": [
    {
     "data": {
      "text/plain": [
       "f_min<2kHz  cluster\n",
       "0           0          1485\n",
       "            1          1543\n",
       "            2           165\n",
       "            3           758\n",
       "            4          2271\n",
       "            5          1334\n",
       "            6           260\n",
       "1           0           564\n",
       "            1            58\n",
       "            2          1201\n",
       "            3          1123\n",
       "            4           916\n",
       "            5           795\n",
       "            6          1174\n",
       "dtype: int64"
      ]
     },
     "execution_count": 15,
     "metadata": {},
     "output_type": "execute_result"
    }
   ],
   "source": [
    "fmin_count = data.filter(['f_min<2kHz','cluster'], axis=1)\n",
    "fmin_count.value_counts(sort=False)"
   ]
  },
  {
   "cell_type": "code",
   "execution_count": 16,
   "metadata": {},
   "outputs": [
    {
     "data": {
      "text/plain": [
       "tweek_sign  cluster\n",
       "0           0          2024\n",
       "            1          1601\n",
       "            2           486\n",
       "            3          1861\n",
       "            4          3120\n",
       "            5          2070\n",
       "            6          1237\n",
       "1           0             6\n",
       "            2            97\n",
       "            3             8\n",
       "            4            15\n",
       "            5            13\n",
       "            6            36\n",
       "2           2           112\n",
       "            3             3\n",
       "            4             3\n",
       "            5            10\n",
       "            6            14\n",
       "3           0             3\n",
       "            2           174\n",
       "            4            23\n",
       "            5            19\n",
       "            6            24\n",
       "4           0            16\n",
       "            2           497\n",
       "            3             9\n",
       "            4            26\n",
       "            5            17\n",
       "            6           123\n",
       "dtype: int64"
      ]
     },
     "execution_count": 16,
     "metadata": {},
     "output_type": "execute_result"
    }
   ],
   "source": [
    "sign_count = data.filter(['tweek_sign','cluster'], axis=1)\n",
    "sign_count.value_counts(sort=False)"
   ]
  },
  {
   "cell_type": "code",
   "execution_count": null,
   "metadata": {},
   "outputs": [],
   "source": []
  }
 ],
 "metadata": {
  "kernelspec": {
   "display_name": "Python 3",
   "language": "python",
   "name": "python3"
  },
  "language_info": {
   "codemirror_mode": {
    "name": "ipython",
    "version": 3
   },
   "file_extension": ".py",
   "mimetype": "text/x-python",
   "name": "python",
   "nbconvert_exporter": "python",
   "pygments_lexer": "ipython3",
   "version": "3.8.6"
  }
 },
 "nbformat": 4,
 "nbformat_minor": 4
}
